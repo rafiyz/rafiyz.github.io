{
 "cells": [
  {
   "cell_type": "markdown",
   "id": "7177cf80-a74a-4442-8cb3-a0110b486eca",
   "metadata": {},
   "source": [
    "#### ICS/IT, University of Agriculture Peshawar\n",
    "### Modern Programming Language \n",
    "# Week 6: GUI Programming in Python\n",
    "### BS(IT) 6th\n",
    "\n",
    "\n",
    "### Instructor: Dr. Rafiullah Khan  \n",
    "[Website](https://rafiyz.github.io/index.html)"
   ]
  },
  {
   "cell_type": "markdown",
   "id": "34ef1a85-19a2-45ee-a410-b4ff81d3f1fb",
   "metadata": {},
   "source": [
    "\n",
    "## 1. Introduction to GUI Programming\n",
    "Graphical User Interfaces (GUIs) allow users to interact with applications using graphical components.\n",
    "Python provides several GUI libraries, including:\n",
    " - Tkinter (built-in, simple)# - Tkinter (built-in, simple)\n",
    "- PyQt / PySide (feature-rich, based on Qt)\n",
    "- Kivy (for multi-touch apps)\n",
    "- wxPython (native look and feel)"
   ]
  },
  {
   "cell_type": "markdown",
   "id": "cada8325-82ed-4ada-8aed-99ecab413558",
   "metadata": {},
   "source": [
    "### 1. Tkinter (Built-in, Simple)\n",
    "Tkinter is the standard GUI library included with Python, making it a great choice for beginners. It provides a simple way to create windows, buttons, labels, and other GUI elements.\n",
    "\n",
    "- Pros: Easy to use, no need to install extra packages.\n",
    "- Use Case: Ideal for small desktop apps, calculators, form-based apps.\n",
    "- Limitations: Basic look and fewer advanced widgets compared to other libraries.\n",
    "\n",
    "### 2. PyQt / PySide (Feature-rich, Based on Qt)\n",
    "PyQt and PySide are Python bindings for the Qt framework (), which is used in professional-grade applications (like VLC and Autodesk tools).\n",
    "\n",
    "### Qt (pronounced \"cute\") is a powerful cross-platform application development framework mainly written in C++. It is widely used to create graphical user interfaces (GUIs) and multi-platform applications.\n",
    "\n",
    "- Pros: Very powerful, cross-platform, with modern-looking widgets and support for advanced GUI features (like dockable windows, graphics views).\n",
    "- Use Case: Ideal for large, complex applications.\n",
    "- Note: PyQt has licensing restrictions (GPL/commercial), while PySide is LGPL.\n",
    "\n",
    "### 3. Kivy (For Multi-touch Apps)\n",
    "Kivy is an open-source Python framework designed for developing multi-touch applications, especially for mobile devices.\n",
    "\n",
    "- Pros: Cross-platform (Windows, Linux, Android, iOS), great for mobile and touchscreen interfaces.\n",
    "- Use Case: Ideal for mobile apps, games, or interactive kiosks.\n",
    "- Limitations: Slightly different UI approach; may not look native on all platforms.\n",
    "\n",
    "### 4. wxPython (Native Look and Feel)\n",
    "wxPython is a Python binding for the wxWidgets C++ library. It allows developers to create apps with a native appearance on different platforms.\n",
    "\n",
    "- Pros: Native UI on each platform, good performance.\n",
    "- Use Case: Desktop applications that need to blend in with the OS’s native look.\n",
    "- Limitations: Slightly more complex setup and event handling than Tkinter."
   ]
  },
  {
   "cell_type": "markdown",
   "id": "b830a0e2-cb92-47f6-aef2-30251835edb1",
   "metadata": {},
   "source": [
    "## 2. Creating a Basic Window using Tkinter"
   ]
  },
  {
   "cell_type": "code",
   "execution_count": 2,
   "id": "8b6eb22a-b7f9-4eab-9961-cc1053c2b91c",
   "metadata": {},
   "outputs": [
    {
     "name": "stderr",
     "output_type": "stream",
     "text": [
      "2025-04-13 21:19:07.141 Python[15675:2731619] +[IMKClient subclass]: chose IMKClient_Modern\n",
      "2025-04-13 21:19:07.141 Python[15675:2731619] +[IMKInputSession subclass]: chose IMKInputSession_Modern\n"
     ]
    }
   ],
   "source": [
    "\n",
    "import tkinter as tk\n",
    "\n",
    "root = tk.Tk()\n",
    "root.title(\"Basic GUI\")\n",
    "root.geometry(\"300x200\")\n",
    "root.mainloop()\n"
   ]
  },
  {
   "cell_type": "markdown",
   "id": "f3a5a01b-4292-45ba-b01f-a3772f6b1c97",
   "metadata": {},
   "source": [
    "## 3. Adding Widgets (Labels, Buttons, Entry Fields)"
   ]
  },
  {
   "cell_type": "code",
   "execution_count": 3,
   "id": "68aa9912-e0a9-4e19-8022-a92183cd9728",
   "metadata": {},
   "outputs": [
    {
     "name": "stderr",
     "output_type": "stream",
     "text": [
      "2025-04-13 21:14:28.539 Python[14634:2702335] +[IMKClient subclass]: chose IMKClient_Modern\n",
      "2025-04-13 21:14:28.539 Python[14634:2702335] +[IMKInputSession subclass]: chose IMKInputSession_Modern\n"
     ]
    }
   ],
   "source": [
    "\n",
    "def on_click():\n",
    "    label.config(text=\"Button Clicked!\")\n",
    "\n",
    "root = tk.Tk()\n",
    "root.title(\"Widgets Example\")\n",
    "\n",
    "label = tk.Label(root, text=\"Hello, Tkinter!\")\n",
    "label.pack()\n",
    "\n",
    "button = tk.Button(root, text=\"Click Me\", command=on_click)\n",
    "button.pack()\n",
    "\n",
    "entry = tk.Entry(root)\n",
    "entry.pack()\n",
    "\n",
    "root.mainloop()"
   ]
  },
  {
   "cell_type": "markdown",
   "id": "aebcd2c9-5bfb-4b0d-a1ba-1f71b2736919",
   "metadata": {},
   "source": [
    "## 4. Layout Management (pack, grid, place)"
   ]
  },
  {
   "cell_type": "code",
   "execution_count": 4,
   "id": "a816565c-a24e-4e77-8c04-a2c16734bed1",
   "metadata": {},
   "outputs": [],
   "source": [
    "\n",
    "root = tk.Tk()\n",
    "root.title(\"Grid Layout\")\n",
    "\n",
    "tk.Label(root, text=\"Name\").grid(row=0, column=0)\n",
    "tk.Entry(root).grid(row=0, column=1)\n",
    "\n",
    "tk.Label(root, text=\"Email\").grid(row=1, column=0)\n",
    "tk.Entry(root).grid(row=1, column=1)\n",
    "\n",
    "root.mainloop()"
   ]
  },
  {
   "cell_type": "markdown",
   "id": "5e6bc039-ed50-43ec-a8e6-e8b313adf025",
   "metadata": {},
   "source": [
    "### Save Data in Text file"
   ]
  },
  {
   "cell_type": "code",
   "execution_count": 5,
   "id": "bea0c38a-66b5-4c6e-aa2f-30e8e13c8de3",
   "metadata": {},
   "outputs": [],
   "source": [
    "import tkinter as tk\n",
    "\n",
    "def save_data():\n",
    "    name = name_entry.get()\n",
    "    email = email_entry.get()\n",
    "    \n",
    "    with open(\"user_data.txt\", \"a\") as file:\n",
    "        file.write(f\"Name: {name}, Email: {email}\\n\")\n",
    "    \n",
    "    # Clear entry fields after saving\n",
    "    name_entry.delete(0, tk.END)\n",
    "    email_entry.delete(0, tk.END)\n",
    "\n",
    "# Create main window\n",
    "root = tk.Tk()\n",
    "root.title(\"Grid Layout\")\n",
    "\n",
    "# Labels and Entry Fields\n",
    "tk.Label(root, text=\"Name\").grid(row=0, column=0)\n",
    "name_entry = tk.Entry(root)\n",
    "name_entry.grid(row=0, column=1)\n",
    "\n",
    "tk.Label(root, text=\"Email\").grid(row=1, column=0)\n",
    "email_entry = tk.Entry(root)\n",
    "email_entry.grid(row=1, column=1)\n",
    "\n",
    "# Save Button\n",
    "save_button = tk.Button(root, text=\"Save\", command=save_data)\n",
    "save_button.grid(row=2, column=0, columnspan=2, pady=5)\n",
    "\n",
    "root.mainloop()"
   ]
  },
  {
   "cell_type": "markdown",
   "id": "a69d5ac4-f928-4c11-b26e-c7dd7cefaea7",
   "metadata": {},
   "source": [
    "## 5. Handling Events (Button Clicks, Key Presses)"
   ]
  },
  {
   "cell_type": "code",
   "execution_count": 6,
   "id": "65a61152-6ef7-4cbd-a8f9-5d92d0f73459",
   "metadata": {},
   "outputs": [],
   "source": [
    "\n",
    "def key_pressed(event):\n",
    "    label.config(text=f\"Key Pressed: {event.char}\")\n",
    "\n",
    "root = tk.Tk()\n",
    "root.title(\"Event Handling\")\n",
    "\n",
    "label = tk.Label(root, text=\"Press a key\")\n",
    "label.pack()\n",
    "\n",
    "root.bind(\"<Key>\", key_pressed)\n",
    "root.mainloop()"
   ]
  },
  {
   "cell_type": "markdown",
   "id": "cf0e7531-bf83-407f-9a93-16bb34032dbc",
   "metadata": {},
   "source": [
    "## 6. Using Message Boxes"
   ]
  },
  {
   "cell_type": "code",
   "execution_count": 7,
   "id": "5a5c178d-5dea-4ed4-b159-e2165d68c478",
   "metadata": {},
   "outputs": [],
   "source": [
    "\n",
    "from tkinter import messagebox\n",
    "\n",
    "def show_message():\n",
    "    messagebox.showinfo(\"Info\", \"This is a message!\")\n",
    "\n",
    "root = tk.Tk()\n",
    "tk.Button(root, text=\"Show Message\", command=show_message).pack()\n",
    "root.mainloop()"
   ]
  },
  {
   "cell_type": "markdown",
   "id": "15a78bd4-e788-4e24-8405-ebff1a3295bb",
   "metadata": {},
   "source": [
    "## 7. File Dialog (Open & Save Files)"
   ]
  },
  {
   "cell_type": "code",
   "execution_count": 8,
   "id": "bbb151ee-1a64-436c-b67f-b5fa1165659f",
   "metadata": {},
   "outputs": [],
   "source": [
    "\n",
    "from tkinter import filedialog\n",
    "\n",
    "def open_file():\n",
    "    file_path = filedialog.askopenfilename()\n",
    "    label.config(text=f\"Opened: {file_path}\")\n",
    "\n",
    "root = tk.Tk()\n",
    "tk.Button(root, text=\"Open File\", command=open_file).pack()\n",
    "label = tk.Label(root, text=\"No file selected\")\n",
    "label.pack()\n",
    "root.mainloop()"
   ]
  },
  {
   "cell_type": "markdown",
   "id": "840bbf60-1eb7-4ddf-ab6c-b9f6fcf4147d",
   "metadata": {},
   "source": [
    "## 8. Creating Menus"
   ]
  },
  {
   "cell_type": "code",
   "execution_count": 12,
   "id": "fa7c3435-a0b4-46d1-8a45-a6c480c75d3e",
   "metadata": {},
   "outputs": [],
   "source": [
    "\n",
    "root = tk.Tk()\n",
    "root.title(\"Menu Example\")\n",
    "\n",
    "menu = tk.Menu(root)\n",
    "root.config(menu=menu)\n",
    "\n",
    "file_menu = tk.Menu(menu)\n",
    "menu.add_cascade(label=\"File\", menu=file_menu)\n",
    "file_menu.add_command(label=\"Open\")\n",
    "file_menu.add_command(label=\"Exit\", command=root.quit)\n",
    "\n",
    "root.mainloop()\n"
   ]
  },
  {
   "cell_type": "markdown",
   "id": "31d06939-c33b-456f-bfb9-db6b5041d56f",
   "metadata": {},
   "source": [
    "## 9. Working with Frames & Paned Windows"
   ]
  },
  {
   "cell_type": "code",
   "execution_count": 3,
   "id": "efb9696e-9e1c-4a0d-9df4-ad90a96adc30",
   "metadata": {},
   "outputs": [],
   "source": [
    "\n",
    "root = tk.Tk()\n",
    "root.title(\"Frames Example\")\n",
    "\n",
    "frame = tk.Frame(root, bg=\"lightblue\", width=200, height=100)\n",
    "frame.pack(fill=\"both\", expand=True)\n",
    "\n",
    "root.mainloop()\n"
   ]
  },
  {
   "cell_type": "markdown",
   "id": "7d5f2426-9769-4944-bca2-de3ba34a2efa",
   "metadata": {},
   "source": [
    "## 10. GUI Form Fields in Python (Tkinter)\n",
    "This notebook demonstrates various GUI form fields using Tkinter."
   ]
  },
  {
   "cell_type": "code",
   "execution_count": 4,
   "id": "71860e06-3c8d-4ae0-aed3-ede2d329d34e",
   "metadata": {},
   "outputs": [],
   "source": [
    "import tkinter as tk\n",
    "from tkinter import ttk, filedialog\n",
    "\n",
    "def open_file():\n",
    "    file_path = filedialog.askopenfilename()\n",
    "    if file_path:\n",
    "        file_label.config(text=f\"Selected File: {file_path}\")\n",
    "\n",
    "# Create main window\n",
    "root = tk.Tk()\n",
    "root.title(\"GUI Form Fields\")\n",
    "root.geometry(\"350x500\")\n",
    "\n",
    "# Label\n",
    "tk.Label(root, text=\"Label Example\").pack()\n",
    "\n",
    "# Text Box (Entry Field)\n",
    "tk.Label(root, text=\"Enter Name:\").pack()\n",
    "entry = tk.Entry(root)\n",
    "entry.pack()\n",
    "\n",
    "# Multi-line Text Box (Text Area)\n",
    "tk.Label(root, text=\"Multi-line Text:\").pack()\n",
    "text_area = tk.Text(root, height=3, width=30)\n",
    "text_area.pack()\n",
    "\n",
    "# Radio Buttons\n",
    "tk.Label(root, text=\"Select Option:\").pack()\n",
    "var = tk.StringVar(value=\"1\")\n",
    "radio1 = tk.Radiobutton(root, text=\"Option 1\", variable=var, value=\"1\")\n",
    "radio2 = tk.Radiobutton(root, text=\"Option 2\", variable=var, value=\"2\")\n",
    "radio1.pack()\n",
    "radio2.pack()\n",
    "\n",
    "# Checkbox\n",
    "check1 = tk.Checkbutton(root, text=\"Check Me\")\n",
    "check1.pack()\n",
    "\n",
    "# Drop-down List (Combo Box)\n",
    "tk.Label(root, text=\"Select Item:\").pack()\n",
    "combo = ttk.Combobox(root, values=[\"Item 1\", \"Item 2\", \"Item 3\"])\n",
    "combo.pack()\n",
    "\n",
    "# List Box\n",
    "tk.Label(root, text=\"List Box:\").pack()\n",
    "listbox = tk.Listbox(root)\n",
    "listbox.insert(1, \"Item A\")\n",
    "listbox.insert(2, \"Item B\")\n",
    "listbox.insert(3, \"Item C\")\n",
    "listbox.pack()\n",
    "\n",
    "# Slider (Scale)\n",
    "tk.Label(root, text=\"Adjust Value:\").pack()\n",
    "slider = tk.Scale(root, from_=0, to=100, orient=\"horizontal\")\n",
    "slider.pack()\n",
    "\n",
    "# Spin Box\n",
    "tk.Label(root, text=\"Choose a number:\").pack()\n",
    "spinbox = tk.Spinbox(root, from_=1, to=10)\n",
    "spinbox.pack()\n",
    "\n",
    "# File Dialog\n",
    "file_button = tk.Button(root, text=\"Open File\", command=open_file)\n",
    "file_button.pack()\n",
    "file_label = tk.Label(root, text=\"No file selected\")\n",
    "file_label.pack()\n",
    "\n",
    "# Button\n",
    "button = tk.Button(root, text=\"Submit\", command=lambda: print(\"Button Clicked!\"))\n",
    "button.pack()\n",
    "\n",
    "# Run GUI\n",
    "root.mainloop()"
   ]
  },
  {
   "cell_type": "markdown",
   "id": "505764b0-adbb-4b59-8b4b-c3358d78f041",
   "metadata": {},
   "source": [
    "## 11. Advanced GUI - Using PyQt"
   ]
  },
  {
   "cell_type": "code",
   "execution_count": 1,
   "id": "c19f78b8-410e-47b3-bff1-7688b2f6a4c3",
   "metadata": {},
   "outputs": [
    {
     "name": "stdout",
     "output_type": "stream",
     "text": [
      "Collecting PyQt5\n",
      "  Using cached PyQt5-5.15.11-cp38-abi3-macosx_11_0_arm64.whl.metadata (2.1 kB)\n",
      "Collecting PyQt5-sip<13,>=12.15 (from PyQt5)\n",
      "  Using cached PyQt5_sip-12.17.0-cp312-cp312-macosx_10_9_universal2.whl.metadata (472 bytes)\n",
      "Collecting PyQt5-Qt5<5.16.0,>=5.15.2 (from PyQt5)\n",
      "  Using cached PyQt5_Qt5-5.15.16-py3-none-macosx_11_0_arm64.whl.metadata (536 bytes)\n",
      "Using cached PyQt5-5.15.11-cp38-abi3-macosx_11_0_arm64.whl (6.6 MB)\n",
      "Downloading PyQt5_Qt5-5.15.16-py3-none-macosx_11_0_arm64.whl (37.1 MB)\n",
      "\u001b[2K   \u001b[90m━━━━━━━━━━━━━━━━━━━━━━━━━━━━━━━━━━━━━━━━\u001b[0m \u001b[32m37.1/37.1 MB\u001b[0m \u001b[31m2.5 MB/s\u001b[0m eta \u001b[36m0:00:00\u001b[0m00:01\u001b[0m00:01\u001b[0m\n",
      "\u001b[?25hDownloading PyQt5_sip-12.17.0-cp312-cp312-macosx_10_9_universal2.whl (124 kB)\n",
      "Installing collected packages: PyQt5-Qt5, PyQt5-sip, PyQt5\n",
      "Successfully installed PyQt5-5.15.11 PyQt5-Qt5-5.15.16 PyQt5-sip-12.17.0\n",
      "Note: you may need to restart the kernel to use updated packages.\n"
     ]
    }
   ],
   "source": [
    "pip install PyQt5"
   ]
  },
  {
   "cell_type": "code",
   "execution_count": 5,
   "id": "b89b64c5-6ee0-46b1-892a-1faa67dd8a3f",
   "metadata": {},
   "outputs": [
    {
     "data": {
      "text/plain": [
       "0"
      ]
     },
     "execution_count": 5,
     "metadata": {},
     "output_type": "execute_result"
    }
   ],
   "source": [
    "\n",
    "from PyQt5.QtWidgets import QApplication, QWidget\n",
    "\n",
    "app = QApplication([])\n",
    "window = QWidget()\n",
    "window.setWindowTitle(\"PyQt Window\")\n",
    "window.show()\n",
    "app.exec_()\n"
   ]
  },
  {
   "cell_type": "code",
   "execution_count": null,
   "id": "6e5647a2-48ec-4592-90e9-ef8a7951ac05",
   "metadata": {},
   "outputs": [],
   "source": []
  }
 ],
 "metadata": {
  "kernelspec": {
   "display_name": "Python 3 (ipykernel)",
   "language": "python",
   "name": "python3"
  },
  "language_info": {
   "codemirror_mode": {
    "name": "ipython",
    "version": 3
   },
   "file_extension": ".py",
   "mimetype": "text/x-python",
   "name": "python",
   "nbconvert_exporter": "python",
   "pygments_lexer": "ipython3",
   "version": "3.12.2"
  }
 },
 "nbformat": 4,
 "nbformat_minor": 5
}
