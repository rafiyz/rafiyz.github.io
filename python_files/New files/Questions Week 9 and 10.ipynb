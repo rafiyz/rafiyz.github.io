{
 "cells": [
  {
   "cell_type": "markdown",
   "id": "e246d421-d664-4ac1-b6a0-3a4ca88b1165",
   "metadata": {},
   "source": [
    "# Workshop Questions\n",
    "\n",
    "# Modren Programing Language \n",
    "## (Week 9 and 10) BS(IT) 6th \n",
    "## ICS/IT, University of Agriculture Peshawar\n",
    "\n",
    "### Instructor: Dr. Rafiullah Khan  \n",
    "[Website](https://rafiyz.github.io/index.html)"
   ]
  },
  {
   "cell_type": "markdown",
   "id": "8f294cbb-0ed2-4aa1-abae-42a09ba42496",
   "metadata": {},
   "source": [
    "# Questions\n",
    "1. Write a Python program to create a new text file named \"sample.txt\" and write \"Hello, World!\" into it.\n",
    "\n",
    "2. Write a program to read the contents of \"sample.txt\" and print them to the console.\n",
    "\n",
    "3. Modify the previous program to handle the case where the file does not exist, displaying an appropriate error message.\n",
    "\n",
    "4. Write a program that appends the text \"This is a new line.\" to \"sample.txt\".\n",
    "\n",
    "5. Create a Python program that writes a list of names into a file called \"names.txt\", each on a new line.\n",
    "\n",
    "6. Write a program that reads \"names.txt\" and counts the number of names present in the file.\n",
    "\n",
    "7. Write a Python script that copies the contents of \"sample.txt\" into a new file called \"copy_sample.txt\".\n",
    "\n",
    "8. Write a program to check if a given file (e.g., \"test.txt\") exists and print \"File found!\" if it exists, otherwise \"File not found!\".\n",
    "\n",
    "9. Create a Python program to read a CSV file named \"data.csv\" and print its contents line by line.\n",
    "\n",
    "10. Write a program that creates a new CSV file named \"students.csv\" and writes student names and grades into it.\n",
    "\n",
    "11. Write a Python program to read JSON data from a file named \"data.json\" and print it in a readable format.\n",
    "\n",
    "12. Modify the previous program to handle the case where \"data.json\" does not exist, displaying an appropriate error message.\n",
    "\n",
    "13. Write a program that writes a dictionary containing student information into a JSON file named \"students.json\".\n",
    "\n",
    "14. Create a Python script that deletes a file named \"temp.txt\" if it exists.\n",
    "\n",
    "15. Write a Python program that reads a file and prints the number of words in it.\n",
    "\n",
    "16. Create a program that finds and prints the longest word in \"sample.txt\".\n",
    "\n",
    "17. Write a Python script that counts the number of occurrences of a given word in a text file.\n",
    "\n",
    "18. Create a program that replaces all occurrences of a given word in \"sample.txt\" with another word and saves the result in a new file.\n",
    "\n",
    "19. Write a program that reads a file and prints only the first 5 lines.\n",
    "\n",
    "20. Create a Python script that renames a file from \"old_name.txt\" to \"new_name.txt\"."
   ]
  },
  {
   "cell_type": "code",
   "execution_count": null,
   "id": "1022ed94-406a-4624-a698-b046fd607fa8",
   "metadata": {},
   "outputs": [],
   "source": []
  }
 ],
 "metadata": {
  "kernelspec": {
   "display_name": "Python 3 (ipykernel)",
   "language": "python",
   "name": "python3"
  },
  "language_info": {
   "codemirror_mode": {
    "name": "ipython",
    "version": 3
   },
   "file_extension": ".py",
   "mimetype": "text/x-python",
   "name": "python",
   "nbconvert_exporter": "python",
   "pygments_lexer": "ipython3",
   "version": "3.12.2"
  }
 },
 "nbformat": 4,
 "nbformat_minor": 5
}
