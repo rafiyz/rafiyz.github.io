{
 "cells": [
  {
   "cell_type": "markdown",
   "id": "e854fe64-5bc9-4e57-bbbb-05152df5ce76",
   "metadata": {},
   "source": [
    "#### ICS/IT, University of Agriculture Peshawar\n",
    "### Modern Programming Language \n",
    "# Week 9 and 10: Python File Handling\n",
    "### BS(IT) 6th\n",
    "\n",
    "\n",
    "### Instructor: Dr. Rafiullah Khan  \n",
    "[Website](https://rafiyz.github.io/index.html)"
   ]
  },
  {
   "cell_type": "markdown",
   "id": "ddd1970c",
   "metadata": {},
   "source": [
    "# Python File Handling\n",
    "This notebook covers various aspects of file handling in Python, including opening, reading, writing, appending, handling exceptions, and working with different file formats."
   ]
  },
  {
   "cell_type": "markdown",
   "id": "ba16183b",
   "metadata": {},
   "source": [
    "## 1. Opening and Closing Files"
   ]
  },
  {
   "cell_type": "code",
   "execution_count": 6,
   "id": "ee8e900f",
   "metadata": {},
   "outputs": [],
   "source": [
    "# Opening and closing a file in Python\n",
    "file = open(\"example.txt\", \"w\")  # Open file in write mode\n",
    "file.write(\"Hello, World!\")  # Write to file\n",
    "file.close()  # Close the file"
   ]
  },
  {
   "cell_type": "markdown",
   "id": "a52ca9ab",
   "metadata": {},
   "source": [
    "## 2. Reading from Files"
   ]
  },
  {
   "cell_type": "code",
   "execution_count": 2,
   "id": "da4a3440",
   "metadata": {},
   "outputs": [
    {
     "name": "stdout",
     "output_type": "stream",
     "text": [
      "Hello, World!\n"
     ]
    }
   ],
   "source": [
    "# Reading from a file\n",
    "file = open(\"example.txt\", \"r\")  # Open file in read mode\n",
    "content = file.read()  # Read entire content\n",
    "print(content)\n",
    "file.close()"
   ]
  },
  {
   "cell_type": "markdown",
   "id": "1d74ac86",
   "metadata": {},
   "source": [
    "## 3. Writing to Files"
   ]
  },
  {
   "cell_type": "code",
   "execution_count": 3,
   "id": "0de0d84f",
   "metadata": {},
   "outputs": [],
   "source": [
    "# Writing to a file\n",
    "with open(\"write_example.txt\", \"w\") as file:\n",
    "    file.write(\"Python File Handling Example.\")  # Write to file"
   ]
  },
  {
   "cell_type": "markdown",
   "id": "cdddb7d6",
   "metadata": {},
   "source": [
    "## 4. Appending to Files"
   ]
  },
  {
   "cell_type": "code",
   "execution_count": 4,
   "id": "5adbdaea",
   "metadata": {},
   "outputs": [],
   "source": [
    "# Appending data to an existing file\n",
    "with open(\"example.txt\", \"a\") as file:\n",
    "    file.write(\"\\nAppending a new line.\")"
   ]
  },
  {
   "cell_type": "code",
   "execution_count": 5,
   "id": "1fc34243-6334-47fa-85c3-ef1818a8f0ab",
   "metadata": {},
   "outputs": [
    {
     "name": "stdout",
     "output_type": "stream",
     "text": [
      "Enter text to append:  Rafi has entered some data in the text file\n"
     ]
    },
    {
     "name": "stdout",
     "output_type": "stream",
     "text": [
      "Text appended successfully!\n"
     ]
    }
   ],
   "source": [
    "# Take input from the user\n",
    "user_input = input(\"Enter text to append: \")\n",
    "\n",
    "# Open the file in append mode and write the input\n",
    "with open(\"example.txt\", \"a\") as file:\n",
    "    file.write(\"\\n\" + user_input)\n",
    "\n",
    "print(\"Text appended successfully!\")"
   ]
  },
  {
   "cell_type": "markdown",
   "id": "aad7594a",
   "metadata": {},
   "source": [
    "## 5. File Modes and Their Usage\n",
    "\n",
    "### File Modes and Their Usage in Python\n",
    "\n",
    "#### File Mode Table\n",
    "\n",
    "| Mode  | Description                 | Behavior  |\n",
    "|-------|-----------------------------|------------------------------------------------------------|\n",
    "| \"r\"   | Read mode (default)         | Opens a file for reading. Fails if the file does not exist. |\n",
    "| \"w\"   | Write mode                  | Opens a file for writing. Creates a new file if it doesn't exist, or overwrites the existing file. |\n",
    "| \"a\"   | Append mode                 | Opens a file for appending. Creates the file if it doesn’t exist. |\n",
    "| \"x\"   | Exclusive creation mode     | Creates a new file. Fails if the file already exists. |\n",
    "| \"r+\"  | Read and write mode         | Opens a file for both reading and writing. Fails if the file does not exist. |\n",
    "| \"w+\"  | Write and read mode         | Opens a file for both writing and reading. Overwrites the file if it exists or creates a new one. |\n",
    "| \"a+\"  | Append and read mode        | Opens a file for both appending and reading. Creates the file if it doesn’t exist. |\n",
    "| \"b\"   | Binary mode                 | Used with other modes (e.g., \"rb\", \"wb\") to handle binary files like images, PDFs, etc. |\n",
    "| \"t\"   | Text mode (default)         | Used with other modes (e.g., \"rt\", \"wt\") to handle text files. |"
   ]
  },
  {
   "cell_type": "code",
   "execution_count": null,
   "id": "e875c42b",
   "metadata": {},
   "outputs": [],
   "source": [
    "# Demonstrating file modes\n",
    "with open(\"modes_example.txt\", \"w+\") as file:\n",
    "    file.write(\"This is a test.\")\n",
    "    file.seek(0)  # Move to the beginning\n",
    "    print(file.read())\n",
    "\n",
    "# more examples of File Modes are given at the end of this document."
   ]
  },
  {
   "cell_type": "markdown",
   "id": "e9abb72f",
   "metadata": {},
   "source": [
    "## 6. Working with File Paths"
   ]
  },
  {
   "cell_type": "code",
   "execution_count": 7,
   "id": "55482c8f",
   "metadata": {},
   "outputs": [
    {
     "name": "stdout",
     "output_type": "stream",
     "text": [
      "File Path: /Users/dr.khan/Library/CloudStorage/GoogleDrive-rafiyzfiles@gmail.com/My Drive/IBMS/Subjects/BS/MPL (Python)/Weekly Notebook/example.txt\n"
     ]
    }
   ],
   "source": [
    "import os\n",
    "file_path = os.path.join(os.getcwd(), \"example.txt\")\n",
    "print(\"File Path:\", file_path)"
   ]
  },
  {
   "cell_type": "markdown",
   "id": "964541c8",
   "metadata": {},
   "source": [
    "## 7. Handling Exceptions in File Operations"
   ]
  },
  {
   "cell_type": "code",
   "execution_count": 9,
   "id": "25469184",
   "metadata": {},
   "outputs": [
    {
     "name": "stdout",
     "output_type": "stream",
     "text": [
      "Hello, World!\n"
     ]
    }
   ],
   "source": [
    "# Handling file errors with try-except\n",
    "try:\n",
    "    #with open(\"nonexistent.txt\", \"r\") as file:\n",
    "    with open(\"example.txt\", \"r\") as file:     \n",
    "        print(file.read())\n",
    "except FileNotFoundError:\n",
    "    print(\"File not found!\")"
   ]
  },
  {
   "cell_type": "markdown",
   "id": "f312cfe0",
   "metadata": {},
   "source": [
    "## 8. Using the `with` Statement\n",
    "\n",
    "The with statement in Python is used to simplify resource management, such as working with files, network connections, or database connections. It ensures that resources are properly released after they are used, preventing issues like memory leaks or resource locks."
   ]
  },
  {
   "cell_type": "code",
   "execution_count": null,
   "id": "501196d6",
   "metadata": {},
   "outputs": [],
   "source": [
    "# Using 'with' statement for safe file handling\n",
    "with open(\"example.txt\", \"r\") as file:\n",
    "    print(file.readline())"
   ]
  },
  {
   "cell_type": "markdown",
   "id": "4ced0b31",
   "metadata": {},
   "source": [
    "## 9. Working with CSV Files\n",
    "\n",
    "Writing and appending a CSV file"
   ]
  },
  {
   "cell_type": "code",
   "execution_count": 13,
   "id": "c4bca5fa",
   "metadata": {},
   "outputs": [],
   "source": [
    "import csv\n",
    "with open(\"data.csv\", \"w\", newline='') as file:\n",
    "    writer = csv.writer(file)\n",
    "    writer.writerow([\"Name\", \"Age\"])\n",
    "    writer.writerow([\"Alice\", 30])"
   ]
  },
  {
   "cell_type": "code",
   "execution_count": 14,
   "id": "04683d0b-a90a-4cd8-8c6e-788019c233a3",
   "metadata": {},
   "outputs": [],
   "source": [
    "with open(\"data.csv\", \"a\", newline='') as file:\n",
    "    writer = csv.writer(file)\n",
    "    writer.writerow([\"Rafi\", 40])"
   ]
  },
  {
   "cell_type": "markdown",
   "id": "ae836f58",
   "metadata": {},
   "source": [
    "## 10. Working with JSON Files"
   ]
  },
  {
   "cell_type": "code",
   "execution_count": 18,
   "id": "c79cb704",
   "metadata": {},
   "outputs": [],
   "source": [
    "import json\n",
    "data = {\"name\": \"Alice\", \"age\": 30 }\n",
    "with open(\"data.json\", \"w\") as file:\n",
    "    json.dump(data, file)"
   ]
  },
  {
   "cell_type": "markdown",
   "id": "323f9e2c",
   "metadata": {},
   "source": [
    "## 11. Working with Binary Files"
   ]
  },
  {
   "cell_type": "code",
   "execution_count": 19,
   "id": "e2ea81b6",
   "metadata": {},
   "outputs": [],
   "source": [
    "# Writing binary data\n",
    "with open(\"binary_file.bin\", \"wb\") as file:\n",
    "    file.write(b\"Binary data example\")"
   ]
  },
  {
   "cell_type": "markdown",
   "id": "382d3a45",
   "metadata": {},
   "source": [
    "## 12. File Positioning and Seeking"
   ]
  },
  {
   "cell_type": "code",
   "execution_count": 22,
   "id": "ea2daef0",
   "metadata": {},
   "outputs": [
    {
     "name": "stdout",
     "output_type": "stream",
     "text": [
      "llo, World!\n"
     ]
    }
   ],
   "source": [
    "# Using seek() and tell()\n",
    "with open(\"example.txt\", \"r\") as file:\n",
    "    file.seek(2)\n",
    "    print(file.read())"
   ]
  },
  {
   "cell_type": "markdown",
   "id": "d4c1bfea",
   "metadata": {},
   "source": [
    "## 13. Checking File Existence and Properties"
   ]
  },
  {
   "cell_type": "code",
   "execution_count": 23,
   "id": "f89ffe5b",
   "metadata": {},
   "outputs": [
    {
     "name": "stdout",
     "output_type": "stream",
     "text": [
      "File exists: True\n"
     ]
    }
   ],
   "source": [
    "import os\n",
    "print(\"File exists:\", os.path.exists(\"example.txt\"))"
   ]
  },
  {
   "cell_type": "markdown",
   "id": "2bd7dd0d",
   "metadata": {},
   "source": [
    "## 14. Deleting and Renaming Files"
   ]
  },
  {
   "cell_type": "code",
   "execution_count": 24,
   "id": "09656228",
   "metadata": {},
   "outputs": [
    {
     "name": "stdout",
     "output_type": "stream",
     "text": [
      "File renamed successfully!\n"
     ]
    }
   ],
   "source": [
    "import os\n",
    "if os.path.exists(\"example.txt\"):\n",
    "    os.rename(\"example.txt\", \"renamed_example.txt\")\n",
    "    print(\"File renamed successfully!\")"
   ]
  },
  {
   "cell_type": "markdown",
   "id": "776bb8de-3255-4881-8b92-516d1eec787c",
   "metadata": {},
   "source": [
    "### 15. Working with MS Excel File\n",
    "\n",
    "You can use the pandas library along with the with statement to read and write Excel files efficiently. Below is an example demonstrating both reading from and writing to an Excel file.\n",
    "\n",
    "Installation\n",
    "Make sure you have pandas and openpyxl installed:\n",
    "pip install pandas openpyxl\n",
    "\n",
    "#### Writing to an Excel file\n",
    "\n",
    "The with statement is used with pd.ExcelWriter to manage the file.\n",
    "df.to_excel() writes data to example.xlsx in Sheet1.\n",
    "The file is automatically closed after exiting the with block.\n",
    "\n",
    "#### Reading from an Excel file\n",
    "\n",
    "The with statement is used with pd.ExcelFile to read the Excel file.\n",
    "pd.read_excel() extracts the data from Sheet1.\n"
   ]
  },
  {
   "cell_type": "code",
   "execution_count": 1,
   "id": "9bcaed21-ed94-4eae-ba03-9cdc4696d2d6",
   "metadata": {},
   "outputs": [
    {
     "name": "stdout",
     "output_type": "stream",
     "text": [
      "Data written to example.xlsx\n",
      "Data read from example.xlsx:\n",
      "      Name  Age\n",
      "0    Alice   25\n",
      "1      Bob   30\n",
      "2  Charlie   35\n"
     ]
    }
   ],
   "source": [
    "import pandas as pd\n",
    "\n",
    "# Writing to an Excel file\n",
    "data = {'Name': ['Alice', 'Bob', 'Charlie'], 'Age': [25, 30, 35]}\n",
    "df = pd.DataFrame(data)\n",
    "\n",
    "with pd.ExcelWriter(\"example.xlsx\", engine=\"openpyxl\") as writer:\n",
    "    df.to_excel(writer, sheet_name=\"Sheet1\", index=False)\n",
    "\n",
    "print(\"Data written to example.xlsx\")\n",
    "\n",
    "# Reading from an Excel file\n",
    "with pd.ExcelFile(\"example.xlsx\") as reader:\n",
    "    df_read = pd.read_excel(reader, sheet_name=\"Sheet1\")\n",
    "\n",
    "print(\"Data read from example.xlsx:\")\n",
    "print(df_read)\n"
   ]
  },
  {
   "cell_type": "markdown",
   "id": "228c31f7-7466-46c0-9ed8-c2b967f1df5b",
   "metadata": {},
   "source": [
    "### Self Study: Examples of File Modes "
   ]
  },
  {
   "cell_type": "code",
   "execution_count": null,
   "id": "5b39b8d3-adf5-4f65-8fb4-6ced26a85226",
   "metadata": {},
   "outputs": [],
   "source": [
    "### File Modes and Their Usage in Python\n",
    "\n",
    "# 1. Read Mode ('r') - Opens a file for reading (Fails if file does not exist)\n",
    "with open(\"example.txt\", \"r\") as file:\n",
    "    content = file.read()\n",
    "    print(\"Read Mode:\\n\", content)\n",
    "\n",
    "# 2. Write Mode ('w') - Overwrites file content (Creates a new file if not found)\n",
    "with open(\"example.txt\", \"w\") as file:\n",
    "    file.write(\"This will overwrite existing content.\")\n",
    "print(\"Write Mode: Content overwritten.\")\n",
    "\n",
    "# 3. Append Mode ('a') - Adds new content at the end without overwriting\n",
    "with open(\"example.txt\", \"a\") as file:\n",
    "    file.write(\"\\nThis text is appended.\")\n",
    "print(\"Append Mode: Content appended.\")\n",
    "\n",
    "# 4. Exclusive Creation Mode ('x') - Fails if file exists\n",
    "try:\n",
    "    with open(\"newfile.txt\", \"x\") as file:\n",
    "        file.write(\"This file is created exclusively.\")\n",
    "    print(\"Exclusive Mode: File created.\")\n",
    "except FileExistsError:\n",
    "    print(\"Exclusive Mode: File already exists.\")\n",
    "\n",
    "# 5. Read & Write Mode ('r+') - Read and write (Fails if file does not exist)\n",
    "with open(\"example.txt\", \"r+\") as file:\n",
    "    content = file.read()\n",
    "    file.write(\"\\nNew data\")\n",
    "print(\"Read & Write Mode: Content read and updated.\")\n",
    "\n",
    "# 6. Write & Read Mode ('w+') - Overwrites file, allows reading & writing\n",
    "with open(\"example.txt\", \"w+\") as file:\n",
    "    file.write(\"Fresh start!\")\n",
    "    file.seek(0)\n",
    "    print(\"Write & Read Mode:\\n\", file.read())\n",
    "\n",
    "# 7. Append & Read Mode ('a+') - Appends without overwriting, allows reading\n",
    "with open(\"example.txt\", \"a+\") as file:\n",
    "    file.write(\"\\nAdding another line.\")\n",
    "    file.seek(0)\n",
    "    print(\"Append & Read Mode:\\n\", file.read())\n",
    "\n",
    "# 8. Binary Read Mode ('rb') - Used for binary files like images\n",
    "try:\n",
    "    with open(\"image.jpg\", \"rb\") as file:\n",
    "        img_data = file.read()\n",
    "    print(\"Binary Read Mode: Image file read successfully.\")\n",
    "except FileNotFoundError:\n",
    "    print(\"Binary Read Mode: Image file not found.\")\n",
    "\n",
    "# 9. Binary Write Mode ('wb') - Writing binary data\n",
    "with open(\"binary_file.bin\", \"wb\") as file:\n",
    "    file.write(b\"Binary data example\")\n",
    "print(\"Binary Write Mode: Binary data written.\")\n"
   ]
  }
 ],
 "metadata": {
  "kernelspec": {
   "display_name": "Python 3 (ipykernel)",
   "language": "python",
   "name": "python3"
  },
  "language_info": {
   "codemirror_mode": {
    "name": "ipython",
    "version": 3
   },
   "file_extension": ".py",
   "mimetype": "text/x-python",
   "name": "python",
   "nbconvert_exporter": "python",
   "pygments_lexer": "ipython3",
   "version": "3.12.2"
  }
 },
 "nbformat": 4,
 "nbformat_minor": 5
}
