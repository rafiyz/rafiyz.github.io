{
 "cells": [
  {
   "cell_type": "markdown",
   "id": "7abca636-3e28-4f60-ae6f-3ef13603142b",
   "metadata": {},
   "source": [
    "#### ICS/IT, University of Agriculture Peshawar\n",
    "### Modern Programming Language \n",
    "# Week 6: GUI Programming in Python\n",
    "### BS(IT) 6th\n",
    "\n",
    "\n",
    "### Instructor: Dr. Rafiullah Khan  \n",
    "[Website](https://rafiyz.github.io/index.html)"
   ]
  },
  {
   "cell_type": "markdown",
   "id": "771d8aef",
   "metadata": {},
   "source": [
    "# Week 7 and 8: Working with APIs\n",
    "\n",
    "In this notebook, we will learn how to interact with web-based APIs using Python. APIs (Application Programming Interfaces) allow communication between software applications, and they are widely used to access data from web services."
   ]
  },
  {
   "cell_type": "markdown",
   "id": "af19506b",
   "metadata": {},
   "source": [
    "## Understanding APIs and HTTP Requests\n",
    "APIs allow programs to communicate with each other. In the context of web development, we often interact with **RESTful APIs** using HTTP methods such as:\n",
    "- `GET`: Retrieve data\n",
    "- `POST`: Send data\n",
    "- `PUT`: Update data\n",
    "- `DELETE`: Remove data"
   ]
  },
  {
   "cell_type": "code",
   "execution_count": 2,
   "id": "29ca5737",
   "metadata": {},
   "outputs": [
    {
     "name": "stdout",
     "output_type": "stream",
     "text": [
      "API Endpoint URL: https://api.example.com/data\n"
     ]
    }
   ],
   "source": [
    "# Example: Understanding a basic API endpoint\n",
    "# Example URL: https://api.example.com/data (not executable here)\n",
    "api_url = \"https://api.example.com/data\"\n",
    "print(\"API Endpoint URL:\", api_url)"
   ]
  },
  {
   "cell_type": "markdown",
   "id": "45515f9f",
   "metadata": {},
   "source": [
    "## Using the `requests` Library to Interact with APIs\n",
    "The `requests` library in Python makes it simple to send HTTP requests."
   ]
  },
  {
   "cell_type": "code",
   "execution_count": 3,
   "id": "08c0804f",
   "metadata": {},
   "outputs": [
    {
     "name": "stdout",
     "output_type": "stream",
     "text": [
      "Status Code: 200\n",
      "Headers: {'Date': 'Sun, 20 Apr 2025 17:12:09 GMT', 'Content-Type': 'application/json; charset=utf-8', 'Cache-Control': 'public, max-age=60, s-maxage=60', 'Vary': 'Accept,Accept-Encoding, Accept, X-Requested-With', 'ETag': 'W/\"4f825cc84e1c733059d46e76e6df9db557ae5254f9625dfe8e1b09499c449438\"', 'X-GitHub-Media-Type': 'github.v3; format=json', 'x-github-api-version-selected': '2022-11-28', 'Access-Control-Expose-Headers': 'ETag, Link, Location, Retry-After, X-GitHub-OTP, X-RateLimit-Limit, X-RateLimit-Remaining, X-RateLimit-Used, X-RateLimit-Resource, X-RateLimit-Reset, X-OAuth-Scopes, X-Accepted-OAuth-Scopes, X-Poll-Interval, X-GitHub-Media-Type, X-GitHub-SSO, X-GitHub-Request-Id, Deprecation, Sunset', 'Access-Control-Allow-Origin': '*', 'Strict-Transport-Security': 'max-age=31536000; includeSubdomains; preload', 'X-Frame-Options': 'deny', 'X-Content-Type-Options': 'nosniff', 'X-XSS-Protection': '0', 'Referrer-Policy': 'origin-when-cross-origin, strict-origin-when-cross-origin', 'Content-Security-Policy': \"default-src 'none'\", 'Content-Encoding': 'gzip', 'Server': 'github.com', 'Accept-Ranges': 'bytes', 'X-RateLimit-Limit': '60', 'X-RateLimit-Remaining': '57', 'X-RateLimit-Reset': '1745171095', 'X-RateLimit-Resource': 'core', 'X-RateLimit-Used': '3', 'Transfer-Encoding': 'chunked', 'X-GitHub-Request-Id': '7B43:143BF1:101B116:15FDFC3:68052AE8'}\n"
     ]
    }
   ],
   "source": [
    "import requests\n",
    "\n",
    "# Example: Sending a GET request to a sample API (This might not work without internet access)\n",
    "response = requests.get(\"https://api.github.com\")\n",
    "print(\"Status Code:\", response.status_code)\n",
    "print(\"Headers:\", response.headers)"
   ]
  },
  {
   "cell_type": "markdown",
   "id": "914c2efd",
   "metadata": {},
   "source": [
    "## Parsing JSON Data\n",
    "APIs typically return data in **JSON (JavaScript Object Notation)** format. Python can easily parse JSON data using the `.json()` method."
   ]
  },
  {
   "cell_type": "code",
   "execution_count": 4,
   "id": "be16715a",
   "metadata": {},
   "outputs": [
    {
     "name": "stdout",
     "output_type": "stream",
     "text": [
      "Current User URL: https://api.github.com/user\n"
     ]
    }
   ],
   "source": [
    "# Example: Parsing JSON data from the GitHub API\n",
    "if response.status_code == 200:\n",
    "    data = response.json()\n",
    "    print(\"Current User URL:\", data.get(\"current_user_url\"))"
   ]
  },
  {
   "cell_type": "markdown",
   "id": "c481987e",
   "metadata": {},
   "source": [
    "## Real-world Example: Fetching Weather Data from OpenWeatherMap API\n",
    "You can sign up for a free API key at https://openweathermap.org/api to fetch real-time weather data."
   ]
  },
  {
   "cell_type": "code",
   "execution_count": 5,
   "id": "3287b585",
   "metadata": {},
   "outputs": [
    {
     "name": "stdout",
     "output_type": "stream",
     "text": [
      "Temperature: 20.07 °C\n",
      "Weather: broken clouds\n"
     ]
    }
   ],
   "source": [
    "# Real-world example: Using OpenWeatherMap API (Replace 'your_api_key' with your actual API key)\n",
    "city = \"Sydney\"\n",
    "api_key = \"0c671f847773a9a38d46f4a25d08dc3d\"  # Replace with your actual key\n",
    "url = f\"https://api.openweathermap.org/data/2.5/weather?q={city}&appid={api_key}&units=metric\"\n",
    "\n",
    " #Uncomment the following lines to test with a real key\n",
    "response = requests.get(url)\n",
    "if response.status_code == 200:\n",
    "     weather_data = response.json()\n",
    "     print(\"Temperature:\", weather_data['main']['temp'], \"°C\")\n",
    "     print(\"Weather:\", weather_data['weather'][0]['description'])\n",
    "else:\n",
    "     print(\"Failed to retrieve weather data\")"
   ]
  },
  {
   "cell_type": "markdown",
   "id": "e2e721bc",
   "metadata": {},
   "source": [
    "## Real-world Example: Fetching Weather Data from OpenWeatherMap API with changes Lat-Long\n",
    "You can sign up for a free API key at https://openweathermap.org/api to fetch real-time weather data."
   ]
  },
  {
   "cell_type": "code",
   "execution_count": 6,
   "id": "593a5319-1f5d-40b3-b427-93915336f01e",
   "metadata": {},
   "outputs": [
    {
     "name": "stdout",
     "output_type": "stream",
     "text": [
      "Temperature: 23.5°C\n",
      "Wind Speed: 5.0 km/h\n",
      "Weather Code: 1\n"
     ]
    }
   ],
   "source": [
    "import requests\n",
    "\n",
    "# Coordinates for S, Australia\n",
    "latitude = 34.0151 \n",
    "longitude = 71.5249\n",
    "\n",
    "# Open-Meteo API endpoint\n",
    "url = f\"https://api.open-meteo.com/v1/forecast?latitude={latitude}&longitude={longitude}&current_weather=true\"\n",
    "\n",
    "try:\n",
    "    response = requests.get(url)\n",
    "    response.raise_for_status()  # Raise an exception for HTTP errors\n",
    "    data = response.json()\n",
    "    current_weather = data.get(\"current_weather\", {})\n",
    "    temperature = current_weather.get(\"temperature\")\n",
    "    windspeed = current_weather.get(\"windspeed\")\n",
    "    weather_code = current_weather.get(\"weathercode\")\n",
    "\n",
    "    print(f\"Temperature: {temperature}°C\")\n",
    "    print(f\"Wind Speed: {windspeed} km/h\")\n",
    "    print(f\"Weather Code: {weather_code}\")\n",
    "except requests.RequestException as e:\n",
    "    print(f\"Error fetching weather data: {e}\")\n"
   ]
  },
  {
   "cell_type": "markdown",
   "id": "2b526c73-15e4-49ea-8c43-988b4dbff13e",
   "metadata": {},
   "source": [
    "# Example: Fetching public repositories of a GitHub user"
   ]
  },
  {
   "cell_type": "code",
   "execution_count": 7,
   "id": "44272828",
   "metadata": {},
   "outputs": [
    {
     "name": "stdout",
     "output_type": "stream",
     "text": [
      "Repo Name: 01researchgroup\n",
      "Repo Name: BBC-Urdu-News-Dataset\n",
      "Repo Name: PIR-protocols\n",
      "Repo Name: rafiyz.github.io\n"
     ]
    }
   ],
   "source": [
    "# Example: Fetching public repositories of a GitHub user\n",
    "github_user = \"octocat\"\n",
    "url = f\"https://api.github.com/users/{github_user}/repos\"\n",
    "\n",
    "response = requests.get(url)\n",
    "if response.status_code == 200:\n",
    "    repos = response.json()\n",
    "    for repo in repos:\n",
    "        print(\"Repo Name:\", repo['name'])\n",
    "else:\n",
    "    print(\"Failed to fetch repositories\")"
   ]
  },
  {
   "cell_type": "markdown",
   "id": "4b1a5d4c-4ef9-4e59-8140-d85d39f10404",
   "metadata": {},
   "source": [
    "# Example: Fetching Weather Data using GUI"
   ]
  },
  {
   "cell_type": "code",
   "execution_count": 18,
   "id": "513fb065-1674-419d-aa07-5008f3017bac",
   "metadata": {},
   "outputs": [],
   "source": [
    "import tkinter as tk\n",
    "from tkinter import messagebox\n",
    "import requests\n",
    "\n",
    "# Replace with your own API key from OpenWeatherMap\n",
    "API_KEY = '0c671f847773a9a38d46f4a25d08dc3d'\n",
    "\n",
    "def get_weather():\n",
    "    city = city_entry.get()\n",
    "    if not city:\n",
    "        messagebox.showwarning(\"Input Error\", \"Please enter a city name.\")\n",
    "        return\n",
    "    \n",
    "    url = f\"https://api.openweathermap.org/data/2.5/weather?q={city}&appid={API_KEY}&units=metric\"\n",
    "    \n",
    "    try:\n",
    "        response = requests.get(url)\n",
    "        data = response.json()\n",
    "\n",
    "        if data.get(\"cod\") != 200:\n",
    "            messagebox.showerror(\"Error\", data.get(\"message\", \"Failed to get weather data.\"))\n",
    "            return\n",
    "\n",
    "        weather = data[\"weather\"][0][\"description\"].title()\n",
    "        temp = data[\"main\"][\"temp\"]\n",
    "        humidity = data[\"main\"][\"humidity\"]\n",
    "        wind = data[\"wind\"][\"speed\"]\n",
    "\n",
    "        result = f\"Weather in {city.title()}:\\n\" \\\n",
    "                 f\"Condition: {weather}\\n\" \\\n",
    "                 f\"Temperature: {temp} °C\\n\" \\\n",
    "                 f\"Humidity: {humidity}%\\n\" \\\n",
    "                 f\"Wind Speed: {wind} m/s\"\n",
    "\n",
    "        result_label.config(text=result)\n",
    "\n",
    "    except Exception as e:\n",
    "        messagebox.showerror(\"Error\", str(e))\n",
    "\n",
    "# GUI setup\n",
    "root = tk.Tk()\n",
    "root.title(\"Weather App\")\n",
    "root.geometry(\"400x300\")\n",
    "root.resizable(False, False)\n",
    "\n",
    "tk.Label(root, text=\"Enter City Name:\", font=(\"Arial\", 12)).pack(pady=10)\n",
    "city_entry = tk.Entry(root, font=(\"Arial\", 12))\n",
    "city_entry.pack(pady=5)\n",
    "\n",
    "tk.Button(root, text=\"Get Weather\", command=get_weather, font=(\"Arial\", 12)).pack(pady=10)\n",
    "\n",
    "result_label = tk.Label(root, text=\"\", font=(\"Arial\", 12), justify=\"left\")\n",
    "result_label.pack(pady=10)\n",
    "\n",
    "root.mainloop()\n"
   ]
  },
  {
   "cell_type": "code",
   "execution_count": 8,
   "id": "338e4cf0-743b-4c54-9d5d-1ade435c285b",
   "metadata": {},
   "outputs": [
    {
     "name": "stderr",
     "output_type": "stream",
     "text": [
      "2025-04-20 22:17:44.579 Python[2713:61725] +[IMKClient subclass]: chose IMKClient_Modern\n",
      "2025-04-20 22:17:44.579 Python[2713:61725] +[IMKInputSession subclass]: chose IMKInputSession_Modern\n"
     ]
    }
   ],
   "source": [
    "import tkinter as tk\n",
    "from tkinter import messagebox\n",
    "import requests\n",
    "from bs4 import BeautifulSoup\n",
    "\n",
    "def get_cricinfo_live_scores():\n",
    "    url = \"https://www.espncricinfo.com/live-cricket-score\"\n",
    "    \n",
    "    try:\n",
    "        # Fetch the HTML content of the Cricinfo live scores page\n",
    "        response = requests.get(url)\n",
    "        soup = BeautifulSoup(response.content, 'html.parser')\n",
    "\n",
    "        # Find the first match block on the page (can be adjusted depending on the page structure)\n",
    "        match = soup.find('section', class_='live-match')\n",
    "        if not match:\n",
    "            messagebox.showerror(\"Error\", \"No live matches found.\")\n",
    "            return\n",
    "        \n",
    "        # Extract match details\n",
    "        match_details = match.find('div', class_='match-info')\n",
    "        teams = match_details.find_all('p', class_='team-name')\n",
    "        score = match_details.find_all('span', class_='score')\n",
    "        status = match_details.find('div', class_='status-text').text.strip()\n",
    "\n",
    "        if len(teams) < 2:\n",
    "            messagebox.showerror(\"Error\", \"Couldn't fetch both team names.\")\n",
    "            return\n",
    "\n",
    "        team1 = teams[0].text.strip()\n",
    "        team2 = teams[1].text.strip()\n",
    "        score1 = score[0].text.strip() if len(score) > 0 else \"N/A\"\n",
    "        score2 = score[1].text.strip() if len(score) > 1 else \"N/A\"\n",
    "\n",
    "        result = f\"Match: {team1} vs {team2}\\n\" \\\n",
    "                 f\"Score: {team1}: {score1} | {team2}: {score2}\\n\" \\\n",
    "                 f\"Status: {status}\"\n",
    "\n",
    "        result_label.config(text=result)\n",
    "\n",
    "    except Exception as e:\n",
    "        messagebox.showerror(\"Error\", str(e))\n",
    "\n",
    "# GUI setup\n",
    "root = tk.Tk()\n",
    "root.title(\"Live Cricket Scores from Cricinfo\")\n",
    "root.geometry(\"500x400\")\n",
    "root.resizable(False, False)\n",
    "\n",
    "tk.Label(root, text=\"Live Cricket Scores\", font=(\"Arial\", 16, 'bold')).pack(pady=20)\n",
    "\n",
    "tk.Button(root, text=\"Get Live Scores\", command=get_cricinfo_live_scores, font=(\"Arial\", 12)).pack(pady=10)\n",
    "\n",
    "result_label = tk.Label(root, text=\"\", font=(\"Arial\", 12), justify=\"left\")\n",
    "result_label.pack(pady=10)\n",
    "\n",
    "root.mainloop()\n"
   ]
  },
  {
   "cell_type": "code",
   "execution_count": 9,
   "id": "b9934266-1e25-4239-a3c8-e80fd61dd5b4",
   "metadata": {},
   "outputs": [],
   "source": [
    "import tkinter as tk\n",
    "from tkinter import messagebox\n",
    "import requests\n",
    "\n",
    "# Replace with your Football-Data.org API Key\n",
    "API_KEY = 'af2ddc66e66f4bfbbf7c5f383e2d489b'\n",
    "\n",
    "def get_live_football_scores():\n",
    "    url = \"https://api.football-data.org/v4/matches\"\n",
    "    headers = {\"X-Auth-Token\": API_KEY}\n",
    "    \n",
    "    try:\n",
    "        # Make a request to the API\n",
    "        response = requests.get(url, headers=headers)\n",
    "        data = response.json()\n",
    "\n",
    "        if \"matches\" not in data or len(data[\"matches\"]) == 0:\n",
    "            messagebox.showerror(\"Error\", \"No live matches found.\")\n",
    "            return\n",
    "        \n",
    "        # Get the first match\n",
    "        match = data[\"matches\"][0]\n",
    "        home_team = match[\"homeTeam\"][\"name\"]\n",
    "        away_team = match[\"awayTeam\"][\"name\"]\n",
    "        score_home = match[\"score\"][\"fullTime\"][\"homeTeam\"]\n",
    "        score_away = match[\"score\"][\"fullTime\"][\"awayTeam\"]\n",
    "        status = match[\"status\"]\n",
    "        \n",
    "        result = f\"Match: {home_team} vs {away_team}\\n\" \\\n",
    "                 f\"Score: {home_team}: {score_home} | {away_team}: {score_away}\\n\" \\\n",
    "                 f\"Status: {status}\"\n",
    "\n",
    "        result_label.config(text=result)\n",
    "\n",
    "    except Exception as e:\n",
    "        messagebox.showerror(\"Error\", str(e))\n",
    "\n",
    "# GUI setup\n",
    "root = tk.Tk()\n",
    "root.title(\"Live Football Scores\")\n",
    "root.geometry(\"500x400\")\n",
    "root.resizable(False, False)\n",
    "\n",
    "tk.Label(root, text=\"Live Football Scores\", font=(\"Arial\", 16, 'bold')).pack(pady=20)\n",
    "\n",
    "tk.Button(root, text=\"Get Live Scores\", command=get_live_football_scores, font=(\"Arial\", 12)).pack(pady=10)\n",
    "\n",
    "result_label = tk.Label(root, text=\"\", font=(\"Arial\", 12), justify=\"left\")\n",
    "result_label.pack(pady=10)\n",
    "\n",
    "root.mainloop()\n"
   ]
  },
  {
   "cell_type": "code",
   "execution_count": 21,
   "id": "49dc3b8f-60aa-4479-9f4b-e13b47bdc3c9",
   "metadata": {},
   "outputs": [
    {
     "name": "stdout",
     "output_type": "stream",
     "text": [
      "Requirement already satisfied: requests in /Library/Frameworks/Python.framework/Versions/3.12/lib/python3.12/site-packages (2.32.3)\n",
      "Collecting folium\n",
      "  Downloading folium-0.19.5-py2.py3-none-any.whl.metadata (4.1 kB)\n",
      "Requirement already satisfied: Pillow in /Library/Frameworks/Python.framework/Versions/3.12/lib/python3.12/site-packages (10.2.0)\n",
      "Requirement already satisfied: charset-normalizer<4,>=2 in /Library/Frameworks/Python.framework/Versions/3.12/lib/python3.12/site-packages (from requests) (3.3.2)\n",
      "Requirement already satisfied: idna<4,>=2.5 in /Library/Frameworks/Python.framework/Versions/3.12/lib/python3.12/site-packages (from requests) (3.6)\n",
      "Requirement already satisfied: urllib3<3,>=1.21.1 in /Library/Frameworks/Python.framework/Versions/3.12/lib/python3.12/site-packages (from requests) (2.2.2)\n",
      "Requirement already satisfied: certifi>=2017.4.17 in /Library/Frameworks/Python.framework/Versions/3.12/lib/python3.12/site-packages (from requests) (2024.7.4)\n",
      "Collecting branca>=0.6.0 (from folium)\n",
      "  Downloading branca-0.8.1-py3-none-any.whl.metadata (1.5 kB)\n",
      "Requirement already satisfied: jinja2>=2.9 in /Library/Frameworks/Python.framework/Versions/3.12/lib/python3.12/site-packages (from folium) (3.1.3)\n",
      "Requirement already satisfied: numpy in /Library/Frameworks/Python.framework/Versions/3.12/lib/python3.12/site-packages (from folium) (1.26.4)\n",
      "Collecting xyzservices (from folium)\n",
      "  Downloading xyzservices-2025.1.0-py3-none-any.whl.metadata (4.3 kB)\n",
      "Requirement already satisfied: MarkupSafe>=2.0 in /Library/Frameworks/Python.framework/Versions/3.12/lib/python3.12/site-packages (from jinja2>=2.9->folium) (2.1.5)\n",
      "Downloading folium-0.19.5-py2.py3-none-any.whl (110 kB)\n",
      "Downloading branca-0.8.1-py3-none-any.whl (26 kB)\n",
      "Downloading xyzservices-2025.1.0-py3-none-any.whl (88 kB)\n",
      "Installing collected packages: xyzservices, branca, folium\n",
      "Successfully installed branca-0.8.1 folium-0.19.5 xyzservices-2025.1.0\n",
      "Note: you may need to restart the kernel to use updated packages.\n"
     ]
    }
   ],
   "source": [
    "pip install requests folium Pillow\n"
   ]
  },
  {
   "cell_type": "code",
   "execution_count": null,
   "id": "2623847e-ad93-4f82-8875-8f42ff7e87ab",
   "metadata": {},
   "outputs": [],
   "source": [
    "\n",
    "\n",
    "import tkinter as tk\n",
    "from tkinter import messagebox\n",
    "import requests\n",
    "import folium\n",
    "from io import BytesIO\n",
    "from PIL import Image, ImageTk\n",
    "import webbrowser\n",
    "\n",
    "# Replace with your OpenCage API Key\n",
    "API_KEY = '0785683ffaae4eb7975622229b694841'\n",
    "\n",
    "def get_geolocation_and_map():\n",
    "    city_name = city_entry.get()\n",
    "\n",
    "    if not city_name:\n",
    "        messagebox.showerror(\"Error\", \"Please enter a city name.\")\n",
    "        return\n",
    "\n",
    "    url = f\"https://api.opencagedata.com/geocode/v1/json?q={city_name}&key={API_KEY}\"\n",
    "\n",
    "    try:\n",
    "        # Request geolocation data from OpenCage API\n",
    "        response = requests.get(url)\n",
    "        data = response.json()\n",
    "\n",
    "        if data[\"total_results\"] == 0:\n",
    "            messagebox.showerror(\"Error\", f\"Could not find geolocation for {city_name}.\")\n",
    "            return\n",
    "\n",
    "        # Extract latitude and longitude\n",
    "        latitude = data[\"results\"][0][\"geometry\"][\"lat\"]\n",
    "        longitude = data[\"results\"][0][\"geometry\"][\"lng\"]\n",
    "\n",
    "        # Display city information\n",
    "        city_info_label.config(text=f\"City: {city_name}\\nLatitude: {latitude}\\nLongitude: {longitude}\")\n",
    "\n",
    "        # Create a map centered at the given location\n",
    "        map_center = [latitude, longitude]\n",
    "        map_object = folium.Map(location=map_center, zoom_start=12)\n",
    "\n",
    "        # Add a marker for the location\n",
    "        folium.Marker(location=map_center, popup=city_name).add_to(map_object)\n",
    "\n",
    "        # Save the map as an HTML file\n",
    "        map_file = \"city_map.html\"\n",
    "        map_object.save(map_file)\n",
    "\n",
    "        # Open the map in the default web browser\n",
    "        webbrowser.open(map_file)\n",
    "\n",
    "    except Exception as e:\n",
    "        messagebox.showerror(\"Error\", str(e))\n",
    "\n",
    "# GUI setup\n",
    "root = tk.Tk()\n",
    "root.title(\"Geolocation and Map Viewer\")\n",
    "root.geometry(\"500x400\")\n",
    "root.resizable(False, False)\n",
    "\n",
    "tk.Label(root, text=\"Enter a City Name\", font=(\"Arial\", 14)).pack(pady=10)\n",
    "\n",
    "city_entry = tk.Entry(root, font=(\"Arial\", 12), width=30)\n",
    "city_entry.pack(pady=10)\n",
    "\n",
    "tk.Button(root, text=\"Get Geolocation and Map\", command=get_geolocation_and_map, font=(\"Arial\", 12)).pack(pady=10)\n",
    "\n",
    "city_info_label = tk.Label(root, text=\"\", font=(\"Arial\", 12), justify=\"left\")\n",
    "city_info_label.pack(pady=10)\n",
    "\n",
    "root.mainloop()\n"
   ]
  },
  {
   "cell_type": "code",
   "execution_count": null,
   "id": "ba271752-0aac-431f-821b-d7d8c6f2e06d",
   "metadata": {},
   "outputs": [],
   "source": []
  }
 ],
 "metadata": {
  "kernelspec": {
   "display_name": "Python 3 (ipykernel)",
   "language": "python",
   "name": "python3"
  },
  "language_info": {
   "codemirror_mode": {
    "name": "ipython",
    "version": 3
   },
   "file_extension": ".py",
   "mimetype": "text/x-python",
   "name": "python",
   "nbconvert_exporter": "python",
   "pygments_lexer": "ipython3",
   "version": "3.12.2"
  }
 },
 "nbformat": 4,
 "nbformat_minor": 5
}
