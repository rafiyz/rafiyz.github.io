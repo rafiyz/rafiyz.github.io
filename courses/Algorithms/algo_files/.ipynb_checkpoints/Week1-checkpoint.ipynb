{
 "cells": [
  {
   "attachments": {},
   "cell_type": "markdown",
   "id": "7135631d-b844-4d08-ada2-7fe90d93d6fd",
   "metadata": {},
   "source": [
    "## ICS/IT, University of Agriculture Peshawar\n",
    "# Modren Programing Language \n",
    "### BS(IT) 6th\n",
    "### Week 1: Introduction to Python (Basics)\n",
    "\n",
    "#### Instructor: Dr. Rafiullah Khan  \n",
    "[Website](https://rafiyz.github.io/index.html)\n",
    "\n",
    "\n",
    "<br> Welcome to Modern Programming Language\n",
    "\n",
    "## What is Python?\n",
    "Python is a popular programming language. It was created by Guido van Rossum, and released in 1991.\n",
    "\n",
    "It is used for:\n",
    "\n",
    "web development (server-side),\n",
    "software development,\n",
    "mathematics,\n",
    "system scripting.\n",
    "What can Python do?\n",
    "Python can be used on a server to create web applications.\n",
    "Python can be used alongside software to create workflows.\n",
    "Python can connect to database systems. It can also read and modify files.\n",
    "Python can be used to handle big data and perform complex mathematics.\n",
    "Python can be used for rapid prototyping or production-ready software development.\n",
    "\n",
    "## Why Python?\n",
    "Python works on different platforms (Windows, Mac, Linux, Raspberry Pi, etc).\n",
    "Python has a simple syntax similar to that of the English language.\n",
    "Python has a syntax that allows developers to write programs with fewer lines than some other programming languages.\n",
    "Python runs on an interpreter system, so code can be executed as soon as it is written. This allows for rapid prototyping.\n",
    "Python can be treated procedurally, in an object-oriented way, or in a functional way.\n",
    "\n",
    "## Good to know\n",
    "The most recent major version of Python is Python 3, which we shall be using in this tutorial. However, Python 2, although not being updated with anything other than security updates, is still quite popular.\n",
    "In this tutorial, Python will be written using a text editor. It is possible to write Python in an Integrated Development Environment, such as Thonny, Pycharm, Netbeans, or Eclipse, which are particularly useful when managing more extensive collections of Python files.\n",
    "\n",
    "## Python Syntax compared to other programming languages\n",
    "Python was designed for readability and has some similarities to the English language, with its influence being influenced by mathematics.\n",
    "Unlike other programming languages, Python uses new lines to complete a command, which often uses semicolons or parentheses.\n",
    "Python relies on indentation, using whitespace, to define scope, such as the scope of loops, functions, and classes. Other programming languages often use curly brackets for this purpose.\n"
   ]
  },
  {
   "cell_type": "markdown",
   "id": "dd6caed5-496c-4b73-bc99-d53648efe4c0",
   "metadata": {},
   "source": [
    "<b><span style=\"color:red;\">------------------------------------------</span>\n",
    "<br><span style=\"color:blue;\">------------------------------------------</span>\n",
    "<br><span style=\"color:green;\">------------------------------------------</span></b>"
   ]
  },
  {
   "cell_type": "markdown",
   "id": "53024342-cde6-4f8c-9705-9c72b1d14419",
   "metadata": {},
   "source": [
    "# Installation Steps\n",
    "\n",
    "## Step 1: Download Python\n",
    "Go to the official Python website.\n",
    "Navigate to the Downloads section.\n",
    "The website will detect your operating system and suggest the appropriate version.\n",
    "For most users, the latest stable version of Python is recommended.\n",
    "\n",
    "## Step 2: Run the Installer\n",
    "Open the downloaded installer file.\n",
    "On the first screen:\n",
    "Check the box for \"Add Python to PATH\" (important for command-line use).\n",
    "Click Install Now or choose Customize Installation if you want to specify installation options.\n",
    "\n",
    "## Step 3: Verify the Installation\n",
    "Open a terminal or command prompt.\n",
    "Type the following command to check if Python is installed correctly:\n",
    "    <br><i>python --version </i><br>\n",
    "\n",
    "\n",
    "## Step 4: Install pip (if not already installed)\n",
    "pip, Python's package manager, is included in most installations.\n",
    "Verify by running:\n",
    "<br><i>pip --version</i><br>\n",
    "\n",
    "<b> If pip is not installed, you can install it manually:</b>\n",
    "<br><i>python -m ensurepip --upgrade</i>\n",
    "\n",
    "\n",
    "## Step 5: Install a Code Editor/IDE (Jupyter Notebook)\n",
    "Jupyter Notebook is an open-source, web-based interactive computing environment that allows users to create and share documents containing live code, equations, visualizations, and narrative text. It supports multiple programming languages, though it is most commonly used with Python.\n",
    "\n",
    "### Steps to Install Jupyter Notebook\n",
    "Use one of the following methods to install Jupyter:\n",
    "\n",
    "<b>Method 1: Using pip</b>\n",
    "Open your terminal/command prompt.\n",
    "Run the following command:\n",
    "<br><i>pip install jupyterlab</i><br>OR\n",
    "<br><i>pip install notebook</i><br>\n",
    "\n",
    "\n",
    "<b>Method 2: Using Anaconda (Recommended for Data Science)</b>\n",
    "Download and install Anaconda.\n",
    "Jupyter Notebook comes pre-installed with Anaconda.\n",
    "\n",
    "\n",
    "### How to launch Jupyter Notebook\n",
    "Run the following command in the command prompt:\n",
    "<br><i>jupyter lab</i>"
   ]
  },
  {
   "cell_type": "markdown",
   "id": "ec961843-25c2-4949-b9ef-e1321b3e6484",
   "metadata": {},
   "source": [
    "<b><span style=\"color:red;\">------------------------------------------</span>\n",
    "<br><span style=\"color:blue;\">------------------------------------------</span>\n",
    "<br><span style=\"color:green;\">------------------------------------------</span></b>"
   ]
  },
  {
   "cell_type": "code",
   "execution_count": 1,
   "id": "15a8d0df-35bf-4e37-864e-87060089763a",
   "metadata": {},
   "outputs": [
    {
     "name": "stdout",
     "output_type": "stream",
     "text": [
      "Hello, World!\n"
     ]
    }
   ],
   "source": [
    "# Example\n",
    "print(\"Hello, World!\")"
   ]
  },
  {
   "cell_type": "markdown",
   "id": "e7268a7d-85ef-4f52-bfdd-4b3b0aab1c8a",
   "metadata": {},
   "source": [
    "# Python Indentation\n",
    "Indentation refers to the spaces at the beginning of a code line.\n",
    "\n",
    "Where in other programming languages the indentation in code is for readability only, the indentation in Python is very important.\n",
    "\n"
   ]
  },
  {
   "cell_type": "code",
   "execution_count": 2,
   "id": "75d7a780-f148-4aa6-b982-371238da31e6",
   "metadata": {},
   "outputs": [
    {
     "name": "stdout",
     "output_type": "stream",
     "text": [
      "Five is greater than two!\n"
     ]
    }
   ],
   "source": [
    "# Python uses indentation to indicate a block of code.\n",
    "\n",
    "if 5 > 2:\n",
    "  print(\"Five is greater than two!\")"
   ]
  },
  {
   "cell_type": "markdown",
   "id": "1948d661-28fd-43a3-9718-98c86ba3c5d0",
   "metadata": {},
   "source": [
    "### Python will give you an error if you skip the indentation:"
   ]
  },
  {
   "cell_type": "code",
   "execution_count": 3,
   "id": "fcb13e8b-44aa-4a00-bc77-b6fae0fdd136",
   "metadata": {},
   "outputs": [
    {
     "ename": "IndentationError",
     "evalue": "expected an indented block after 'if' statement on line 3 (3793498032.py, line 4)",
     "output_type": "error",
     "traceback": [
      "\u001b[0;36m  Cell \u001b[0;32mIn[3], line 4\u001b[0;36m\u001b[0m\n\u001b[0;31m    print(\"Five is greater than two!\")\u001b[0m\n\u001b[0m    ^\u001b[0m\n\u001b[0;31mIndentationError\u001b[0m\u001b[0;31m:\u001b[0m expected an indented block after 'if' statement on line 3\n"
     ]
    }
   ],
   "source": [
    "#Syntax Error:\n",
    "\n",
    "if 5 > 2:\n",
    "print(\"Five is greater than two!\")"
   ]
  },
  {
   "cell_type": "markdown",
   "id": "e4e20127-93a5-459b-a852-ad3f1033b238",
   "metadata": {},
   "source": [
    "# Comments and Multiline Comments\n",
    "\n",
    "Python has commenting capability for the purpose of in-code documentation.\n",
    "\n",
    "Comments start with a #, and Python will render the rest of the line as a comment:"
   ]
  },
  {
   "cell_type": "code",
   "execution_count": 4,
   "id": "2fd224c8-f197-46fa-aa7b-ba40603b96a9",
   "metadata": {},
   "outputs": [
    {
     "name": "stdout",
     "output_type": "stream",
     "text": [
      "Hello, World!\n"
     ]
    }
   ],
   "source": [
    "#This is a comment\n",
    "#written in\n",
    "#more than just one line\n",
    "print(\"Hello, World!\")"
   ]
  },
  {
   "cell_type": "markdown",
   "id": "0b0e172f-fbc9-4c80-a08a-a42f9a281336",
   "metadata": {},
   "source": [
    "<b><span style=\"color:red;\">------------------------------------------</span>\n",
    "<br><span style=\"color:blue;\">------------------------------------------</span>\n",
    "<br><span style=\"color:green;\">------------------------------------------</span></b>"
   ]
  },
  {
   "cell_type": "markdown",
   "id": "bb12caba-bff5-45a4-944d-7aa3a0b53621",
   "metadata": {},
   "source": [
    "# Python Variables\n",
    "A variable in Python is used to store data that can be referenced and manipulated in a program. It acts as a container for data values. Variables make it easy to reuse and organize data in Python programs.\n",
    "\n",
    "Declaring Variables\n",
    "In Python, you don't need to specify the type of a variable explicitly. Python infers the type based on the value assigned.\n",
    "\n",
    "In Python, variables are created when you assign a value to it:"
   ]
  },
  {
   "cell_type": "code",
   "execution_count": 5,
   "id": "37e056f5-31d1-4891-a578-da519afbe274",
   "metadata": {},
   "outputs": [
    {
     "name": "stdout",
     "output_type": "stream",
     "text": [
      "5\n",
      "John\n"
     ]
    }
   ],
   "source": [
    "x = 5\n",
    "y = \"John\"\n",
    "print(x)\n",
    "print(y)"
   ]
  },
  {
   "cell_type": "code",
   "execution_count": 22,
   "id": "ed1d3128-9240-4046-907c-01fd529b44ee",
   "metadata": {},
   "outputs": [
    {
     "name": "stdout",
     "output_type": "stream",
     "text": [
      "Sally\n"
     ]
    }
   ],
   "source": [
    "# Variables do not need to be declared with any particular type, \n",
    "#and can even change type after they have been set.\n",
    "\n",
    "x = 4       # x is of type int\n",
    "x = \"Sally\" # x is now of type str\n",
    "print(x)"
   ]
  },
  {
   "cell_type": "markdown",
   "id": "aabf2a15-d812-49b0-b7ad-986b21b3d5b1",
   "metadata": {},
   "source": [
    "<b><span style=\"color:red;\">------------------------------------------</span>\n",
    "<br><span style=\"color:blue;\">------------------------------------------</span>\n",
    "<br><span style=\"color:green;\">------------------------------------------</span></b>"
   ]
  },
  {
   "cell_type": "markdown",
   "id": "a72f7e35-e1ff-4204-ad73-299e66ef7096",
   "metadata": {},
   "source": [
    "### Casting\n",
    "If you want to specify the data type of a variable, this can be done with casting.\n",
    "\n",
    "### Get the Type\n",
    "You can get the data type of a variable with the type() function."
   ]
  },
  {
   "cell_type": "code",
   "execution_count": 7,
   "id": "70baa85c-2eed-4e24-b037-618c0c4895d5",
   "metadata": {},
   "outputs": [],
   "source": [
    "x = str(3)    # x will be '3'\n",
    "y = int(3)    # y will be 3\n",
    "z = float(3)  # z will be 3.0"
   ]
  },
  {
   "cell_type": "code",
   "execution_count": 8,
   "id": "0dffea83-bab3-4ed3-9aab-f4ee0eadc690",
   "metadata": {},
   "outputs": [
    {
     "name": "stdout",
     "output_type": "stream",
     "text": [
      "<class 'int'>\n",
      "<class 'str'>\n"
     ]
    }
   ],
   "source": [
    "x = 5\n",
    "y = \"John\"\n",
    "print(type(x))\n",
    "print(type(y))"
   ]
  },
  {
   "cell_type": "markdown",
   "id": "04285906-da09-4a36-9969-ae2153c2c480",
   "metadata": {},
   "source": [
    "<b><span style=\"color:red;\">------------------------------------------</span>\n",
    "<br><span style=\"color:blue;\">------------------------------------------</span>\n",
    "<br><span style=\"color:green;\">------------------------------------------</span></b>"
   ]
  },
  {
   "cell_type": "markdown",
   "id": "857adf02-6324-4cc8-8173-22659a4e13b1",
   "metadata": {},
   "source": [
    "### Single or Double Quotes?\n",
    "String variables can be declared either by using single or double quotes:"
   ]
  },
  {
   "cell_type": "code",
   "execution_count": 23,
   "id": "490749e9-fc07-47f5-bbc2-a17a5015a3e4",
   "metadata": {},
   "outputs": [
    {
     "name": "stdout",
     "output_type": "stream",
     "text": [
      "John John\n"
     ]
    }
   ],
   "source": [
    "x = \"John\"\n",
    "# is the same as\n",
    "y = 'John'\n",
    "print(x, y)"
   ]
  },
  {
   "cell_type": "markdown",
   "id": "2dfe9d19-2414-4f21-8d8f-f2859fcfc2dc",
   "metadata": {},
   "source": [
    "<b><span style=\"color:red;\">------------------------------------------</span>\n",
    "<br><span style=\"color:blue;\">------------------------------------------</span>\n",
    "<br><span style=\"color:green;\">------------------------------------------</span></b>"
   ]
  },
  {
   "cell_type": "markdown",
   "id": "d118ea62-7496-403a-b753-e4b8882c8a7b",
   "metadata": {},
   "source": [
    "### Case-Sensitive\n",
    "Variable names are case-sensitive."
   ]
  },
  {
   "cell_type": "code",
   "execution_count": 10,
   "id": "a55e7eeb-fff8-4d82-8662-812a149d26db",
   "metadata": {},
   "outputs": [],
   "source": [
    "#This will create two variables:\n",
    "\n",
    "a = 4\n",
    "A = \"Sally\"\n",
    "#A will not overwrite a"
   ]
  },
  {
   "cell_type": "markdown",
   "id": "0ca31a66-ab26-4824-9235-19ca75109e18",
   "metadata": {},
   "source": [
    "<b><span style=\"color:red;\">------------------------------------------</span>\n",
    "<br><span style=\"color:blue;\">------------------------------------------</span>\n",
    "<br><span style=\"color:green;\">------------------------------------------</span></b>"
   ]
  },
  {
   "cell_type": "markdown",
   "id": "3957edfc-8dd3-4814-bdf7-eb56130d1c5e",
   "metadata": {},
   "source": [
    "### Rules for Naming Variables\n",
    "A variable can have a short name (like x and y) or a more descriptive name (age, carname, total_volume). Rules for Python variables:\n",
    "1. A variable name must start with a letter or the underscore character\n",
    "2. A variable name cannot start with a number\n",
    "3. A variable name can only contain alpha-numeric characters and underscores (A-z, 0-9, and _ )\n",
    "4. Variable names are case-sensitive (age, Age and AGE are three different variables)\n",
    "5. A variable name cannot be any of the Python keywords [link](https://www.w3schools.com/python/python_ref_keywords.asp)."
   ]
  },
  {
   "cell_type": "code",
   "execution_count": 11,
   "id": "c7417f33-d045-4138-912a-c3f0a0102c05",
   "metadata": {},
   "outputs": [],
   "source": [
    "#Legal variable names:\n",
    "\n",
    "myvar = \"John\"\n",
    "my_var = \"John\"\n",
    "_my_var = \"John\"\n",
    "myVar = \"John\"\n",
    "MYVAR = \"John\"\n",
    "myvar2 = \"John\""
   ]
  },
  {
   "cell_type": "code",
   "execution_count": 12,
   "id": "24f914f8-f179-4845-a024-6e10f86696e2",
   "metadata": {},
   "outputs": [
    {
     "ename": "SyntaxError",
     "evalue": "invalid decimal literal (3704874718.py, line 3)",
     "output_type": "error",
     "traceback": [
      "\u001b[0;36m  Cell \u001b[0;32mIn[12], line 3\u001b[0;36m\u001b[0m\n\u001b[0;31m    2myvar = \"John\"\u001b[0m\n\u001b[0m    ^\u001b[0m\n\u001b[0;31mSyntaxError\u001b[0m\u001b[0;31m:\u001b[0m invalid decimal literal\n"
     ]
    }
   ],
   "source": [
    "# Illegal variable names:\n",
    "\n",
    "2myvar = \"John\"\n",
    "my-var = \"John\"\n",
    "my var = \"John\""
   ]
  },
  {
   "cell_type": "markdown",
   "id": "9cc04eb6-45a9-43b7-81a7-8b22b213a9a8",
   "metadata": {},
   "source": [
    "<b><span style=\"color:red;\">------------------------------------------</span>\n",
    "<br><span style=\"color:blue;\">------------------------------------------</span>\n",
    "<br><span style=\"color:green;\">------------------------------------------</span></b>"
   ]
  },
  {
   "cell_type": "markdown",
   "id": "4c1c8647-f75a-43e7-9522-97a744efba97",
   "metadata": {},
   "source": [
    "### Many Values to Multiple Variables\n",
    "Python allows you to assign values to multiple variables in one line:"
   ]
  },
  {
   "cell_type": "code",
   "execution_count": 13,
   "id": "a2a47d1b-86d2-44f4-a379-4f8b7101dcef",
   "metadata": {},
   "outputs": [
    {
     "name": "stdout",
     "output_type": "stream",
     "text": [
      "Orange\n",
      "Banana\n",
      "Cherry\n"
     ]
    }
   ],
   "source": [
    "#Example\n",
    "\n",
    "x, y, z = \"Orange\", \"Banana\", \"Cherry\"\n",
    "print(x)\n",
    "print(y)\n",
    "print(z)"
   ]
  },
  {
   "cell_type": "markdown",
   "id": "79c7534d-d7f2-455b-954f-c42c0eb4c336",
   "metadata": {},
   "source": [
    "### One Value to Multiple Variables\n",
    "And you can assign the same value to multiple variables in one line:"
   ]
  },
  {
   "cell_type": "code",
   "execution_count": 14,
   "id": "7e0a24e4-ee7b-4c8e-a7b0-8c834d0101b0",
   "metadata": {},
   "outputs": [
    {
     "name": "stdout",
     "output_type": "stream",
     "text": [
      "Orange\n",
      "Orange\n",
      "Orange\n"
     ]
    }
   ],
   "source": [
    "# Example\n",
    "x = y = z = \"Orange\"\n",
    "print(x)\n",
    "print(y)\n",
    "print(z)"
   ]
  },
  {
   "cell_type": "markdown",
   "id": "5c2172cb-f8a6-4ef5-96c5-bb722dd206b1",
   "metadata": {},
   "source": [
    "### Unpack a Collection\n",
    "If you have a collection of values in a list, tuple etc. Python allows you to extract the values into variables. This is called unpacking."
   ]
  },
  {
   "cell_type": "code",
   "execution_count": 15,
   "id": "4f8685a3-d2a6-4053-b1d9-9422fa98a883",
   "metadata": {},
   "outputs": [
    {
     "name": "stdout",
     "output_type": "stream",
     "text": [
      "apple\n",
      "banana\n",
      "cherry\n"
     ]
    }
   ],
   "source": [
    "# Example\n",
    "# Unpack a list:\n",
    "\n",
    "fruits = [\"apple\", \"banana\", \"cherry\"]\n",
    "x, y, z = fruits\n",
    "print(x)\n",
    "print(y)\n",
    "print(z)"
   ]
  },
  {
   "cell_type": "markdown",
   "id": "ae137f52-88e8-419c-b440-9b434476a31c",
   "metadata": {},
   "source": [
    "<b><span style=\"color:red;\">------------------------------------------</span>\n",
    "<br><span style=\"color:blue;\">------------------------------------------</span>\n",
    "<br><span style=\"color:green;\">------------------------------------------</span></b>"
   ]
  },
  {
   "cell_type": "markdown",
   "id": "5b9278fc-707d-48f4-b5e9-5f0ffce961d2",
   "metadata": {},
   "source": [
    "# Python Data Types\n",
    "\n",
    "Built-in Data Types\n",
    "In programming, data type is an important concept.\n",
    "\n",
    "Variables can store data of different types, and different types can do different things.\n",
    "\n",
    "Python has the following data types built-in by default, in these categories:\n",
    "\n",
    "1. Text Type:\tstr\n",
    "2. Numeric Types:\tint, float, complex\n",
    "3. Sequence Types:\tlist, tuple, range\n",
    "4. Mapping Type:\tdict\n",
    "5. Set Types:\tset, frozenset\n",
    "6. Boolean Type:\tbool\n",
    "7. Binary Types:\tbytes, bytearray, memoryview\n",
    "8. None Type:\tNoneType\n",
    "\n",
    "### Setting the Data Type\n",
    "If you have a collection of values in a list, tuple etc. Python allows you to extract the values into variables. This is called unpacking."
   ]
  },
  {
   "cell_type": "code",
   "execution_count": 16,
   "id": "b3fd8bd7-0be4-476c-a720-f045ff1d3d75",
   "metadata": {},
   "outputs": [],
   "source": [
    "x = \"Hello World\"\t#str\t\n",
    "x = 20\t            #int\t\n",
    "x = 20.5\t#float\t\n",
    "x = 1j\t#complex\t\n",
    "x = [\"apple\", \"banana\", \"cherry\"]\t#list\t\n",
    "x = (\"apple\", \"banana\", \"cherry\")\t#tuple\t\n",
    "x = range(6)\t#range\t\n",
    "x = {\"name\" : \"John\", \"age\" : 36}\t#dict\t\n",
    "x = {\"apple\", \"banana\", \"cherry\"}\t#set\t\n",
    "x = frozenset({\"apple\", \"banana\", \"cherry\"})\t#frozenset\t\n",
    "x = True\t#bool\t\n",
    "x = b\"Hello\"\t#bytes\t\n",
    "x = bytearray(5)\t#bytearray\t\n",
    "x = memoryview(bytes(5))\t#memoryview\t\n",
    "x = None\t#NoneType"
   ]
  },
  {
   "cell_type": "markdown",
   "id": "6dd45751-448a-452b-907a-d374e2a5838e",
   "metadata": {},
   "source": [
    "### Setting the Specific Data Type\n",
    "If you want to specify the data type, you can use the following constructor functions:"
   ]
  },
  {
   "cell_type": "code",
   "execution_count": 17,
   "id": "172d62f8-eaf9-4f15-8ec7-898023e685fa",
   "metadata": {},
   "outputs": [],
   "source": [
    "x = str(\"Hello World\")\t#str\t\n",
    "x = int(20)\t#int\t\n",
    "x = float(20.5)\t#float\t\n",
    "x = complex(1j)\t#complex\t\n",
    "x = list((\"apple\", \"banana\", \"cherry\"))\t#list\t\n",
    "x = tuple((\"apple\", \"banana\", \"cherry\"))\t#tuple\t\n",
    "x = range(6)\t#range\t\n",
    "x = dict(name=\"John\", age=36)\t#dict\t\n",
    "x = set((\"apple\", \"banana\", \"cherry\"))\t#set\t\n",
    "x = frozenset((\"apple\", \"banana\", \"cherry\"))\t#frozenset\t\n",
    "x = bool(5)\t#bool\t\n",
    "x = bytes(5)\t#bytes\t\n",
    "x = bytearray(5)\t#bytearray\t\n",
    "x = memoryview(bytes(5))\t#memoryview"
   ]
  },
  {
   "cell_type": "markdown",
   "id": "909bc10a-3ed5-441c-a9c2-abff0e1c29d6",
   "metadata": {},
   "source": [
    "### Int\n",
    "Int, or integer, is a whole number, positive or negative, without decimals, of unlimited length.\n",
    "\n",
    "### Float\n",
    "Float, or \"floating point number\" is a number, positive or negative, containing one or more decimals.\n",
    "\n",
    "### Complex\n",
    "Complex numbers are written with a \"j\" as the imaginary part:"
   ]
  },
  {
   "cell_type": "markdown",
   "id": "258c5a19-164c-4c13-81de-ff8999aadf11",
   "metadata": {},
   "source": [
    "### Type Conversion\n",
    "You can convert from one type to another with the int(), float(), and complex() methods:"
   ]
  },
  {
   "cell_type": "code",
   "execution_count": 18,
   "id": "d83cdb36-4789-4380-8995-721b0d36d5c7",
   "metadata": {},
   "outputs": [
    {
     "name": "stdout",
     "output_type": "stream",
     "text": [
      "1.0\n",
      "2\n",
      "(1+0j)\n",
      "<class 'float'>\n",
      "<class 'int'>\n",
      "<class 'complex'>\n"
     ]
    }
   ],
   "source": [
    "# Convert from one type to another:\n",
    "\n",
    "x = 1    # int\n",
    "y = 2.8  # float\n",
    "z = 1j   # complex\n",
    "\n",
    "#convert from int to float:\n",
    "a = float(x)\n",
    "\n",
    "#convert from float to int:\n",
    "b = int(y)\n",
    "\n",
    "#convert from int to complex:\n",
    "c = complex(x)\n",
    "\n",
    "print(a)\n",
    "print(b)\n",
    "print(c)\n",
    "\n",
    "print(type(a))\n",
    "print(type(b))\n",
    "print(type(c))"
   ]
  },
  {
   "cell_type": "markdown",
   "id": "7c4c19e5-d4a8-44c3-a409-71dfff67debe",
   "metadata": {},
   "source": [
    "### Random Number\n",
    "Python does not have a random() function to make a random number, but Python has a built-in module called random that can be used to make random numbers:"
   ]
  },
  {
   "cell_type": "code",
   "execution_count": 19,
   "id": "aa30933e-3536-4a73-81aa-6f3557b871bb",
   "metadata": {},
   "outputs": [
    {
     "name": "stdout",
     "output_type": "stream",
     "text": [
      "5\n"
     ]
    }
   ],
   "source": [
    "# Example\n",
    "# Import the random module, and display a random number between 1 and 9:\n",
    "\n",
    "import random\n",
    "print(random.randrange(1, 10))"
   ]
  },
  {
   "cell_type": "markdown",
   "id": "ca8728de-66f2-421f-b33c-b6969f2e1f09",
   "metadata": {},
   "source": [
    "<b><span style=\"color:red;\">------------------------------------------</span>\n",
    "<br><span style=\"color:blue;\">------------------------------------------</span>\n",
    "<br><span style=\"color:green;\">------------------------------------------</span></b>"
   ]
  },
  {
   "cell_type": "markdown",
   "id": "925efca9-a29e-453d-a00a-74feab75b164",
   "metadata": {},
   "source": [
    "## Python User Input\n",
    "### User Input\n",
    "Python allows for user input.\n",
    "That means we are able to ask the user for input.\n",
    "The method is a bit different in Python 3.6 than Python 2.7.\n",
    "Python 3.6 uses the input() method.\n",
    "Python 2.7 uses the raw_input() method.\n",
    "\n",
    "Python stops executing when it comes to the input() function, and continues\n",
    "when the user has given some input.\n",
    "The following example asks for the username, and when you entered the\n",
    "username, it gets printed on the screen:\n"
   ]
  },
  {
   "cell_type": "code",
   "execution_count": 20,
   "id": "4d6357ea-1611-4f2b-b219-d09410879bf1",
   "metadata": {},
   "outputs": [
    {
     "name": "stdin",
     "output_type": "stream",
     "text": [
      "Enter username: 1\n"
     ]
    },
    {
     "name": "stdout",
     "output_type": "stream",
     "text": [
      "Username is: 1\n"
     ]
    }
   ],
   "source": [
    "# Example\n",
    "# Python 3.6\n",
    "username = input(\"Enter username:\")\n",
    "print(\"Username is: \" + username)\n",
    "\n",
    "\n",
    "# Python 2.7\n",
    "# username = raw_input(\"Enter username:\")\n",
    "# print(\"Username is: \" + username)\n",
    "\n"
   ]
  },
  {
   "cell_type": "markdown",
   "id": "34ab2502-0bd7-4f3d-b8c8-baf8d4292a1c",
   "metadata": {},
   "source": [
    "# Good Luck"
   ]
  }
 ],
 "metadata": {
  "kernelspec": {
   "display_name": "Python 3 (ipykernel)",
   "language": "python",
   "name": "python3"
  },
  "language_info": {
   "codemirror_mode": {
    "name": "ipython",
    "version": 3
   },
   "file_extension": ".py",
   "mimetype": "text/x-python",
   "name": "python",
   "nbconvert_exporter": "python",
   "pygments_lexer": "ipython3",
   "version": "3.12.2"
  }
 },
 "nbformat": 4,
 "nbformat_minor": 5
}
