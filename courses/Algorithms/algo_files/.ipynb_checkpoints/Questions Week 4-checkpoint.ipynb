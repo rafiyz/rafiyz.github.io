{
 "cells": [
  {
   "cell_type": "markdown",
   "id": "ebffdbda-34df-4a68-8515-74569170e308",
   "metadata": {},
   "source": [
    "# Workshop Questions\n",
    "\n",
    "# Modren Programing Language \n",
    "## (Week 3) BS(IT) 6th \n",
    "## ICS/IT, University of Agriculture Peshawar\n",
    "\n",
    "### Instructor: Dr. Rafiullah Khan  \n",
    "[Website](https://rafiyz.github.io/index.html)"
   ]
  },
  {
   "cell_type": "markdown",
   "id": "66becaa1-83e1-4d05-b75e-d0008c23413f",
   "metadata": {},
   "source": [
    "## Question 1: Basic Function Creation\n",
    "Write a Python function called greet_user that takes a user's name as an argument and returns a greeting message like \"Hello, [Name]!\".\n",
    "\n",
    "## Question 2: Arguments and Return Values\n",
    "Write a function calculate_area that takes the length and width of a rectangle as arguments and returns its area. Call the function with the values length=10 and width=5 and print the result.\n",
    "\n",
    "## Question 3: Built-in Functions vs. User-defined Functions\n",
    "Write a function is_even that takes an integer as input and returns True if the number is even and False otherwise. Use the abs built-in function to handle negative numbers.\n",
    "\n",
    "## Question 4: Random Number Generation\n",
    "Write a program that uses the random module to generate and print 5 random integers between 1 and 100.\n",
    "\n",
    "## Question 5: Creating and Using a Custom Module\n",
    "Create a module named calculator.py with the following functions:\n",
    "- add(a, b) that returns the sum of two numbers.\n",
    "- subtract(a, b) that returns the difference between two numbers."
   ]
  },
  {
   "cell_type": "code",
   "execution_count": null,
   "id": "1a8d312d-7b82-4312-8031-c32b19e8d34c",
   "metadata": {},
   "outputs": [],
   "source": []
  }
 ],
 "metadata": {
  "kernelspec": {
   "display_name": "Python 3 (ipykernel)",
   "language": "python",
   "name": "python3"
  },
  "language_info": {
   "codemirror_mode": {
    "name": "ipython",
    "version": 3
   },
   "file_extension": ".py",
   "mimetype": "text/x-python",
   "name": "python",
   "nbconvert_exporter": "python",
   "pygments_lexer": "ipython3",
   "version": "3.12.2"
  }
 },
 "nbformat": 4,
 "nbformat_minor": 5
}
