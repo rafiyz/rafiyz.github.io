{
 "cells": [
  {
   "cell_type": "markdown",
   "id": "5fb48a12-4d95-4f82-a518-bb71ae4abd19",
   "metadata": {},
   "source": [
    "# Workshop Questions\n",
    "\n",
    "# Modren Programing Langugae \n",
    "## (Week 2) BS(IT) 6th \n",
    "## ICS/IT, University of Agriculture Peshawar\n",
    "\n",
    "### Instructor: Dr. Rafiullah Khan  \n",
    "[Website](https://rafiyz.github.io/index.html)"
   ]
  },
  {
   "cell_type": "markdown",
   "id": "d0b0e103-0dac-4f4b-b2ee-591b833132d2",
   "metadata": {},
   "source": [
    "## Question 1: \n",
    "Write a Python program that takes two numbers and an operator (+, -, *, /) as input. Use conditional statements (if, elif, else) to perform the specified operation and display the result. If an invalid operator is entered, display an error message.\n",
    "\n",
    "Example Input/Output:\n",
    "- Enter first number: 10  \n",
    "- Enter second number: 5  \n",
    "- Enter operator (+, -, *, /): *  \n",
    "- Result: 50"
   ]
  },
  {
   "cell_type": "markdown",
   "id": "8f34a4f6-23ac-408f-80e1-dbb5ea2d5bcf",
   "metadata": {},
   "source": [
    "## Question 2: \n",
    "Write a program that takes an integer n as input and counts how many odd and even numbers exist between 1 and n. Use a for loop for iteration.\n",
    "\n",
    "Example Input/Output:\n",
    "\n",
    "- Enter a number: 10  \n",
    "- Odd numbers: 5  \n",
    "- Even numbers: 5"
   ]
  },
  {
   "cell_type": "markdown",
   "id": "f806768e-e112-412e-96b0-3eab794c7cc0",
   "metadata": {},
   "source": [
    "## Question 3: \n",
    "Write a program to find the sum of the digits of a number. Use a while loop to process the digits one by one.\n",
    "\n",
    "Example Input/Output:\n",
    "\n",
    "- Enter a number: 1234  \n",
    "- Sum of digits: 10"
   ]
  },
  {
   "cell_type": "markdown",
   "id": "6f11a9c9-9ce7-4870-9b9f-3bc1a399632b",
   "metadata": {},
   "source": [
    "## Question 4: \n",
    "Write a program that prints all numbers from 1 to 20 but skips numbers that are divisible by 3. Use the continue statement.\n",
    "\n",
    "Example Output:\n",
    "1 2 4 5 7 8 10 11 13 14 16 17 19 20"
   ]
  },
  {
   "cell_type": "markdown",
   "id": "6509e781-1170-4499-8f47-aefde856ceb6",
   "metadata": {},
   "source": [
    "## Question 5: \n",
    "Write a program to check if a given number is prime using a while loop. A prime number is only divisible by 1 and itself.\n",
    "\n",
    "Example Input/Output:\n",
    "\n",
    "Enter a number: 13  \n",
    "13 is a prime number.  \n",
    "\n",
    "Enter a number: 16  \n",
    "16 is not a prime number."
   ]
  },
  {
   "cell_type": "code",
   "execution_count": null,
   "id": "a0c211ae-70db-4960-ac65-32a3db34fc72",
   "metadata": {},
   "outputs": [],
   "source": []
  }
 ],
 "metadata": {
  "kernelspec": {
   "display_name": "Python 3 (ipykernel)",
   "language": "python",
   "name": "python3"
  },
  "language_info": {
   "codemirror_mode": {
    "name": "ipython",
    "version": 3
   },
   "file_extension": ".py",
   "mimetype": "text/x-python",
   "name": "python",
   "nbconvert_exporter": "python",
   "pygments_lexer": "ipython3",
   "version": "3.13.1"
  }
 },
 "nbformat": 4,
 "nbformat_minor": 5
}
