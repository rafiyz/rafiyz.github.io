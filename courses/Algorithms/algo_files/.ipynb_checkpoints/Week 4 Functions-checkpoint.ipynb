{
 "cells": [
  {
   "attachments": {},
   "cell_type": "markdown",
   "id": "10854047-0053-4acd-874a-ea057a3ad9e4",
   "metadata": {},
   "source": [
    "#### ICS/IT, University of Agriculture Peshawar\n",
    "### Modern Programming Language \n",
    "# Week 3: Functions and Modules\n",
    "### BS(IT) 6th\n",
    "\n",
    "\n",
    "### Instructor: Dr. Rafiullah Khan  \n",
    "[Website](https://rafiyz.github.io/index.html)"
   ]
  },
  {
   "cell_type": "markdown",
   "id": "638c92f2-35f2-4618-b63b-bc8e2226aaf4",
   "metadata": {},
   "source": [
    "## Python Functions\n",
    "A function is a block of code that only runs when called.\n",
    "You can pass data, known as parameters, into a function.\n",
    "A function can return data as a result."
   ]
  },
  {
   "cell_type": "markdown",
   "id": "e6390023-de14-41ce-8c13-4ee0fada053f",
   "metadata": {},
   "source": [
    "## Creating a Function\n",
    "In Python, a function is defined using the \"def\" keyword:\n",
    "Example:\n",
    "def my_function():\n",
    "print(\"Hello from a function\")\n",
    "## Calling a Function\n",
    "To call a function, use the function name followed by parenthesis:\n",
    "Example:\n",
    "def my_function():\n",
    "print(\"Hello from a function\")"
   ]
  },
  {
   "cell_type": "code",
   "execution_count": 1,
   "id": "226851c1-79a7-4b95-9c09-54aaa753c1f4",
   "metadata": {},
   "outputs": [
    {
     "name": "stdout",
     "output_type": "stream",
     "text": [
      "Hello from a function\n"
     ]
    }
   ],
   "source": [
    "#Example\n",
    "\n",
    "## Creating and Calling a Function\n",
    "def my_function():\n",
    "    print(\"Hello from a function\")\n",
    "\n",
    "#Calling Statement \n",
    "my_function()"
   ]
  },
  {
   "cell_type": "markdown",
   "id": "40d95df4-796f-4487-91a8-e53de607ec0d",
   "metadata": {},
   "source": [
    "## Arguments\n",
    "Information can be passed into functions as arguments.\n",
    "Arguments are specified after the function name inside the parentheses. You\n",
    "can add as many arguments as you want; just separate them with a comma.\n",
    "The following example has a function with one argument (fname). When the\n",
    "the function is called, we pass along a first name, which is used inside the function\n",
    "to print the full name:"
   ]
  },
  {
   "cell_type": "code",
   "execution_count": 2,
   "id": "d281da21-5348-44c2-b00a-defb14a2fff6",
   "metadata": {},
   "outputs": [
    {
     "name": "stdout",
     "output_type": "stream",
     "text": [
      "Emil Refsnes\n",
      "Tobias Refsnes\n",
      "Linus Refsnes\n"
     ]
    }
   ],
   "source": [
    "# Function definition with character data input\n",
    "def my_function(fname):\n",
    "    print(fname + \" Refsnes\")\n",
    "\n",
    "\n",
    "#Calling function\n",
    "my_function(\"Emil\")\n",
    "my_function(\"Tobias\")\n",
    "my_function(\"Linus\")"
   ]
  },
  {
   "cell_type": "markdown",
   "id": "9f780ac4-afdb-4be5-9ab9-b8717e6ed010",
   "metadata": {},
   "source": [
    "## Number of Arguments\n",
    "By default, a function must be called with the correct number of arguments.\n",
    "Meaning that if your function expects 2 arguments, you have to call the function\n",
    "with 2 arguments, not more, and not less."
   ]
  },
  {
   "cell_type": "code",
   "execution_count": 3,
   "id": "84d3960e-8719-40f3-b45c-e4bf59081dc4",
   "metadata": {},
   "outputs": [
    {
     "name": "stdout",
     "output_type": "stream",
     "text": [
      "Emil Refsnes\n"
     ]
    }
   ],
   "source": [
    "# Example\n",
    "# This function expects 2 arguments, and gets 2 arguments:\n",
    "\n",
    "def my_function(fname, lname):\n",
    "    print(fname + \" \" + lname)\n",
    "my_function(\"Emil\", \"Refsnes\")"
   ]
  },
  {
   "cell_type": "code",
   "execution_count": 4,
   "id": "ec0935a1-d86a-4661-869a-61805814d5ae",
   "metadata": {},
   "outputs": [
    {
     "ename": "TypeError",
     "evalue": "my_function() missing 1 required positional argument: 'lname'",
     "output_type": "error",
     "traceback": [
      "\u001b[0;31m---------------------------------------------------------------------------\u001b[0m",
      "\u001b[0;31mTypeError\u001b[0m                                 Traceback (most recent call last)",
      "Cell \u001b[0;32mIn[4], line 8\u001b[0m\n\u001b[1;32m      6\u001b[0m \u001b[38;5;28;01mdef\u001b[39;00m \u001b[38;5;21mmy_function\u001b[39m(fname, lname):\n\u001b[1;32m      7\u001b[0m     \u001b[38;5;28mprint\u001b[39m(fname \u001b[38;5;241m+\u001b[39m \u001b[38;5;124m\"\u001b[39m\u001b[38;5;124m \u001b[39m\u001b[38;5;124m\"\u001b[39m \u001b[38;5;241m+\u001b[39m lname)\n\u001b[0;32m----> 8\u001b[0m \u001b[43mmy_function\u001b[49m\u001b[43m(\u001b[49m\u001b[38;5;124;43m\"\u001b[39;49m\u001b[38;5;124;43mEmil\u001b[39;49m\u001b[38;5;124;43m\"\u001b[39;49m\u001b[43m)\u001b[49m\n",
      "\u001b[0;31mTypeError\u001b[0m: my_function() missing 1 required positional argument: 'lname'"
     ]
    }
   ],
   "source": [
    "# If you try to call the function with 1 or 3 arguments, you will get an error:\n",
    "#Example\n",
    "\n",
    "#This function expects 2 arguments, but gets only 1:\n",
    "\n",
    "def my_function(fname, lname):\n",
    "    print(fname + \" \" + lname)\n",
    "my_function(\"Emil\")"
   ]
  },
  {
   "cell_type": "markdown",
   "id": "c5683f2b-f1f2-4e78-a8c2-fe35dba65d51",
   "metadata": {},
   "source": [
    "## Arbitrary Arguments, *args\n",
    "If you do not know how many arguments that will be passed into your function,\n",
    "add a * before the parameter name in the function definition.\n",
    "This way the function will receive a tuple of arguments, and can access the\n",
    "items accordingly:"
   ]
  },
  {
   "cell_type": "code",
   "execution_count": 5,
   "id": "9af61342-168a-4c4b-a474-58b4c539efb0",
   "metadata": {},
   "outputs": [
    {
     "name": "stdout",
     "output_type": "stream",
     "text": [
      "The youngest child is Tobias\n"
     ]
    }
   ],
   "source": [
    "#Example\n",
    "# If the number of arguments is unknown, add a * before the parameter name:\n",
    "# Especially in case of an Array\n",
    "def my_function(*kids):\n",
    "    print(\"The youngest child is \" + kids[1])\n",
    "my_function(\"Emil\", \"Tobias\", \"Linus\",\"Adam\")"
   ]
  },
  {
   "cell_type": "markdown",
   "id": "8fa20e32-3f3f-42c0-8d87-dcf6cc0b042c",
   "metadata": {},
   "source": [
    "## Keyword Arguments\n",
    "You can also send arguments with the key = value syntax.\n",
    "This way the order of the arguments does not matter."
   ]
  },
  {
   "cell_type": "code",
   "execution_count": 14,
   "id": "0846a42b-6bfd-45c7-9454-15656ad4fbe4",
   "metadata": {},
   "outputs": [
    {
     "name": "stdout",
     "output_type": "stream",
     "text": [
      "The youngest child is Linus\n"
     ]
    }
   ],
   "source": [
    "#Example\n",
    "\n",
    "def my_function(child3, child2, child1):\n",
    "    print(\"The youngest child is \" + child3)\n",
    "\n",
    "my_function(child1 = \"Emil\", child2 = \"Tobias\", child3 = \"Linus\")"
   ]
  },
  {
   "cell_type": "markdown",
   "id": "02028cd8-4217-4cc4-84cf-5bb60cb8d087",
   "metadata": {},
   "source": [
    "## Default Parameter Value\n",
    "The following example shows how to use a default parameter value.\n",
    "If we call the function without argument, it uses the default value:"
   ]
  },
  {
   "cell_type": "code",
   "execution_count": 15,
   "id": "6f129c33-44a3-4211-b837-a8da43fc75b2",
   "metadata": {},
   "outputs": [
    {
     "name": "stdout",
     "output_type": "stream",
     "text": [
      "I am from Sweden\n",
      "I am from Norway\n",
      "I am from Pakistan\n",
      "I am from Brazil\n"
     ]
    }
   ],
   "source": [
    "#Example\n",
    "\n",
    "def my_function(country = \"Pakistan\"):\n",
    "    print(\"I am from \" + country)\n",
    "\n",
    "my_function(\"Sweden\")\n",
    "my_function(\"Norway\")\n",
    "my_function()\n",
    "my_function(\"Brazil\")"
   ]
  },
  {
   "cell_type": "markdown",
   "id": "a69bd169-4948-4e77-8454-f6b5ef0e1ed5",
   "metadata": {},
   "source": [
    "## Passing a List as an Argument\n",
    "You can send any data types of argument to a function (string, number, list,\n",
    "dictionary etc.), and it will be treated as the same data type inside the function.\n",
    "E.g. if you send a List as an argument, it will still be a List when it reaches the\n",
    "function:"
   ]
  },
  {
   "cell_type": "code",
   "execution_count": 17,
   "id": "57fb9160-7367-478e-8ea4-b88cc3773369",
   "metadata": {},
   "outputs": [
    {
     "name": "stdout",
     "output_type": "stream",
     "text": [
      "apple\n",
      "banana\n",
      "cherry\n"
     ]
    }
   ],
   "source": [
    "#Example\n",
    "\n",
    "def my_function(food):\n",
    "    for x in food:\n",
    "        print(x)\n",
    "\n",
    "\n",
    "fruits = [\"apple\", \"banana\", \"cherry\"]\n",
    "my_function(fruits)"
   ]
  },
  {
   "cell_type": "markdown",
   "id": "f420d589-c566-4b2e-a78b-5bb8dd5fbc22",
   "metadata": {},
   "source": [
    "## Return Values\n",
    "To let a function return a value, use the return statement:"
   ]
  },
  {
   "cell_type": "code",
   "execution_count": 18,
   "id": "46a09924-634f-462f-bc83-3c695d18ad13",
   "metadata": {},
   "outputs": [
    {
     "name": "stdout",
     "output_type": "stream",
     "text": [
      "15\n",
      "25\n",
      "45\n"
     ]
    }
   ],
   "source": [
    "#Example\n",
    "\n",
    "def my_function(x):\n",
    "    return 5 * x\n",
    "\n",
    "print(my_function(3))\n",
    "print(my_function(5))\n",
    "print(my_function(9))"
   ]
  },
  {
   "cell_type": "markdown",
   "id": "19ee3cc2-d31c-4045-808c-cacf0b0dd1d9",
   "metadata": {},
   "source": [
    "# Recursion\n",
    "Python also accepts function recursion, which means a defined function can call\n",
    "itself.\n",
    "\n",
    "Recursion is a common mathematical and programming concept. It means that\n",
    "a function calls itself. This has the benefit of meaning that you can loop through\n",
    "data to reach a result.\n",
    "The developer should be very careful with recursion as it can be quite easy to\n",
    "slip into writing a function which never terminates, or one that uses excess\n",
    "amounts of memory or processor power. However, when written correctly\n",
    "recursion can be a very efficient and mathematically-elegant approach to\n",
    "programming.\n",
    "\n",
    "In this example, tri_recursion() is a function that we have defined to call\n",
    "itself (\"recurse\"). We use the k variable as the data, which decrements (-1)\n",
    "every time we recurse. The recursion ends when the condition is not greater\n",
    "than 0 (i.e. when it is 0).\n",
    "\n",
    "To a new developer it can take some time to work out how exactly this works,\n",
    "best way to find out is by testing and modifying it."
   ]
  },
  {
   "cell_type": "code",
   "execution_count": 19,
   "id": "fc1637f5-07b8-4ab3-b1ab-d28d6a1835df",
   "metadata": {},
   "outputs": [
    {
     "name": "stdout",
     "output_type": "stream",
     "text": [
      "\n",
      "\n",
      "Recursion Example Results\n",
      "my result at this point is 0\n",
      "1\n",
      "my result at this point is 1\n",
      "3\n",
      "my result at this point is 3\n",
      "6\n",
      "my result at this point is 6\n",
      "10\n",
      "my result at this point is 10\n",
      "15\n",
      "my result at this point is 15\n",
      "21\n",
      "my result at this point is 21\n"
     ]
    },
    {
     "data": {
      "text/plain": [
       "21"
      ]
     },
     "execution_count": 19,
     "metadata": {},
     "output_type": "execute_result"
    }
   ],
   "source": [
    "#Recursion Example\n",
    "\n",
    "def tri_recursion(k):\n",
    "    if(k > 0):\n",
    "        result = k + tri_recursion(k - 1)\n",
    "        print(result)\n",
    "    else:\n",
    "        result = 0\n",
    "    print(\"my result at this point is \"+str(result))\n",
    "    return result\n",
    "\n",
    "\n",
    "print(\"\\n\\nRecursion Example Results\")\n",
    "tri_recursion(6)"
   ]
  },
  {
   "cell_type": "markdown",
   "id": "2bbfdadd-608f-47c8-a67c-3d3ca90ccfd8",
   "metadata": {},
   "source": [
    "## Recursive function to calculate the nth Fibonacci number"
   ]
  },
  {
   "cell_type": "code",
   "execution_count": 20,
   "id": "1647a0c4-ef09-417e-8acd-b7a2ab14aada",
   "metadata": {},
   "outputs": [
    {
     "name": "stdout",
     "output_type": "stream",
     "text": [
      "Fibonacci Series:\n",
      "0 1 1 2 3 5 8 13 21 34 "
     ]
    }
   ],
   "source": [
    "# Recursive function to calculate the nth Fibonacci number\n",
    "def fibonacci(n):\n",
    "    if n <= 0:\n",
    "        return 0  # Base case: Fibonacci(0) is 0\n",
    "    elif n == 1:\n",
    "        return 1  # Base case: Fibonacci(1) is 1\n",
    "    else:\n",
    "        # Recursive case: sum of the two preceding numbers\n",
    "        return fibonacci(n - 1) + fibonacci(n - 2)\n",
    "\n",
    "# Generate the Fibonacci series up to a given number of terms\n",
    "def fibonacci_series(terms):\n",
    "    print(\"Fibonacci Series:\")\n",
    "    for i in range(terms):\n",
    "        print(fibonacci(i), end=\" \")\n",
    "\n",
    "# Example: Generate the first 10 terms of the Fibonacci series\n",
    "fibonacci_series(10)"
   ]
  },
  {
   "cell_type": "code",
   "execution_count": null,
   "id": "cccc5eff-e2c9-4db9-bdba-584b5d1285a4",
   "metadata": {},
   "outputs": [],
   "source": []
  }
 ],
 "metadata": {
  "kernelspec": {
   "display_name": "Python 3 (ipykernel)",
   "language": "python",
   "name": "python3"
  },
  "language_info": {
   "codemirror_mode": {
    "name": "ipython",
    "version": 3
   },
   "file_extension": ".py",
   "mimetype": "text/x-python",
   "name": "python",
   "nbconvert_exporter": "python",
   "pygments_lexer": "ipython3",
   "version": "3.12.2"
  }
 },
 "nbformat": 4,
 "nbformat_minor": 5
}
