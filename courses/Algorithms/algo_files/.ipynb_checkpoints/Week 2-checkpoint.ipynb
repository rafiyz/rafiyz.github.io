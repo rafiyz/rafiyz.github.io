{
 "cells": [
  {
   "cell_type": "markdown",
   "id": "6d3096c4-1f55-4735-9b8a-2ec1e51091ff",
   "metadata": {},
   "source": [
    "#### ICS/IT, University of Agriculture Peshawar\n",
    "### Modern Programming Language \n",
    "# Week 2: Control Flow and Loops\n",
    "### BS(IT) 6th\n",
    "\n",
    "\n",
    "### Instructor: Dr. Rafiullah Khan  \n",
    "[Website](https://rafiyz.github.io/index.html)\n"
   ]
  },
  {
   "cell_type": "markdown",
   "id": "ec1dfcbe-15c3-4e0b-80ac-b166999cf3e0",
   "metadata": {},
   "source": [
    "\n",
    "## Conditional Statements (if, else, elif)"
   ]
  },
  {
   "cell_type": "code",
   "execution_count": 1,
   "id": "617922d7-c118-4a34-8151-8d5bc413047a",
   "metadata": {},
   "outputs": [
    {
     "name": "stdout",
     "output_type": "stream",
     "text": [
      "x is greater than 5\n"
     ]
    }
   ],
   "source": [
    "# Example 1: Basic if-else\n",
    "x = 10\n",
    "if x > 5:\n",
    "    print(\"x is greater than 5\")\n",
    "else:\n",
    "    print(\"x is 5 or less\")"
   ]
  },
  {
   "cell_type": "code",
   "execution_count": 2,
   "id": "c04f39b8-0a8b-4a8a-aaba-fae35b1b3710",
   "metadata": {},
   "outputs": [
    {
     "name": "stdout",
     "output_type": "stream",
     "text": [
      "Grade: B\n"
     ]
    }
   ],
   "source": [
    "# Example 2: Using elif\n",
    "score = 85\n",
    "if score >= 90:\n",
    "    print(\"Grade: A\")\n",
    "elif score >= 80:\n",
    "    print(\"Grade: B\")\n",
    "elif score >= 70:\n",
    "    print(\"Grade: C\")\n",
    "else:\n",
    "    print(\"Grade: F\")"
   ]
  },
  {
   "cell_type": "markdown",
   "id": "da65f8bc-052d-47aa-97e8-ba8cd733b2a6",
   "metadata": {},
   "source": [
    "## Loops: for and while"
   ]
  },
  {
   "cell_type": "code",
   "execution_count": 3,
   "id": "346a14e0-516d-49c0-8161-5348e05d6c2f",
   "metadata": {},
   "outputs": [
    {
     "name": "stdout",
     "output_type": "stream",
     "text": [
      "Numbers from 1 to 5:\n",
      "1\n",
      "2\n",
      "3\n",
      "4\n",
      "5\n"
     ]
    }
   ],
   "source": [
    "# Example 1: for loop\n",
    "print(\"Numbers from 1 to 5:\")\n",
    "for i in range(1, 6):\n",
    "    print(i)"
   ]
  },
  {
   "cell_type": "code",
   "execution_count": 4,
   "id": "36b94c35-5957-4759-9e99-f0a5bcd8c2a5",
   "metadata": {},
   "outputs": [
    {
     "name": "stdout",
     "output_type": "stream",
     "text": [
      "Countdown from 5:\n",
      "5\n",
      "4\n",
      "3\n",
      "2\n",
      "1\n"
     ]
    }
   ],
   "source": [
    "# Example 2: while loop\n",
    "print(\"Countdown from 5:\")\n",
    "count = 5\n",
    "while count > 0:\n",
    "    print(count)\n",
    "    count -= 1\n"
   ]
  },
  {
   "cell_type": "markdown",
   "id": "64ad8a47",
   "metadata": {},
   "source": [
    "## Loops: Nested loops"
   ]
  },
  {
   "cell_type": "code",
   "execution_count": 5,
   "id": "de01c622",
   "metadata": {},
   "outputs": [
    {
     "name": "stdout",
     "output_type": "stream",
     "text": [
      "Multiplication Table (1 to 5):\n",
      "\n",
      " 1  2  3  4  5 \n",
      " 2  4  6  8 10 \n",
      " 3  6  9 12 15 \n",
      " 4  8 12 16 20 \n",
      " 5 10 15 20 25 \n"
     ]
    }
   ],
   "source": [
    "# Nested loop example: Multiplication Table\n",
    "print(\"Multiplication Table (1 to 5):\\n\")\n",
    "\n",
    "# Outer loop for rows (1 to 5)\n",
    "for i in range(1, 6):\n",
    "    # Inner loop for columns (1 to 5)\n",
    "    for j in range(1, 6):\n",
    "        # Print the product, keeping the numbers aligned\n",
    "        print(f\"{i * j:2}\", end=\" \")\n",
    "    # Print a new line after each row\n",
    "    print()\n"
   ]
  },
  {
   "cell_type": "markdown",
   "id": "f1c5ce8e-5f67-423a-88a1-38b620488628",
   "metadata": {},
   "source": [
    "## break, continue, and pass Statements"
   ]
  },
  {
   "cell_type": "code",
   "execution_count": 6,
   "id": "57d2c005-ab61-48e8-8111-832cac082456",
   "metadata": {},
   "outputs": [
    {
     "name": "stdout",
     "output_type": "stream",
     "text": [
      "Break Example:\n",
      "1\n",
      "2\n",
      "3\n",
      "4\n",
      "Breaking at 5\n"
     ]
    }
   ],
   "source": [
    "# Example 1: break\n",
    "print(\"Break Example:\")\n",
    "for num in range(1, 10):\n",
    "    if num == 5:\n",
    "        print(\"Breaking at 5\")\n",
    "        break\n",
    "    print(num)"
   ]
  },
  {
   "cell_type": "code",
   "execution_count": 7,
   "id": "bad403a3-b624-4211-8db6-c809a747dfe6",
   "metadata": {},
   "outputs": [
    {
     "name": "stdout",
     "output_type": "stream",
     "text": [
      "Continue Example:\n",
      "1\n",
      "3\n",
      "5\n",
      "7\n",
      "9\n"
     ]
    }
   ],
   "source": [
    "# Example 2: continue\n",
    "print(\"Continue Example:\")\n",
    "for num in range(1, 10):\n",
    "    if num % 2 == 0:\n",
    "        continue\n",
    "    print(num)"
   ]
  },
  {
   "cell_type": "code",
   "execution_count": 8,
   "id": "489e2ab4-1ed6-42d0-a847-2b025060ecdb",
   "metadata": {},
   "outputs": [
    {
     "name": "stdout",
     "output_type": "stream",
     "text": [
      "Pass Example:\n",
      "Processing number: 1\n",
      "Processing number: 2\n",
      "Processing number: 3\n",
      "Processing number: 4\n"
     ]
    }
   ],
   "source": [
    "# Example 3: pass\n",
    "print(\"Pass Example:\")\n",
    "for num in range(1, 5):\n",
    "    if num == 3:\n",
    "        pass  # Placeholder for future code\n",
    "    print(f\"Processing number: {num}\")"
   ]
  },
  {
   "cell_type": "markdown",
   "id": "84f37427-b0a9-4efa-a7f2-2e335542da1b",
   "metadata": {},
   "source": [
    "## Practical Exercise: Number Guessing Game"
   ]
  },
  {
   "cell_type": "code",
   "execution_count": 10,
   "id": "d065ecd0-0ea5-435a-8e08-3789751c445f",
   "metadata": {},
   "outputs": [
    {
     "name": "stdout",
     "output_type": "stream",
     "text": [
      "Welcome to the Number Guessing Game!\n"
     ]
    },
    {
     "name": "stdin",
     "output_type": "stream",
     "text": [
      "Enter your guess (1-100):  50\n"
     ]
    },
    {
     "name": "stdout",
     "output_type": "stream",
     "text": [
      "Too low! Try again.\n"
     ]
    },
    {
     "name": "stdin",
     "output_type": "stream",
     "text": [
      "Enter your guess (1-100):  75\n"
     ]
    },
    {
     "name": "stdout",
     "output_type": "stream",
     "text": [
      "Too high! Try again.\n"
     ]
    },
    {
     "name": "stdin",
     "output_type": "stream",
     "text": [
      "Enter your guess (1-100):  63\n"
     ]
    },
    {
     "name": "stdout",
     "output_type": "stream",
     "text": [
      "Too high! Try again.\n"
     ]
    },
    {
     "name": "stdin",
     "output_type": "stream",
     "text": [
      "Enter your guess (1-100):  57\n"
     ]
    },
    {
     "name": "stdout",
     "output_type": "stream",
     "text": [
      "Too high! Try again.\n"
     ]
    },
    {
     "name": "stdin",
     "output_type": "stream",
     "text": [
      "Enter your guess (1-100):  54\n"
     ]
    },
    {
     "name": "stdout",
     "output_type": "stream",
     "text": [
      "Too high! Try again.\n"
     ]
    },
    {
     "name": "stdin",
     "output_type": "stream",
     "text": [
      "Enter your guess (1-100):  52\n"
     ]
    },
    {
     "name": "stdout",
     "output_type": "stream",
     "text": [
      "Too low! Try again.\n"
     ]
    },
    {
     "name": "stdin",
     "output_type": "stream",
     "text": [
      "Enter your guess (1-100):  53\n"
     ]
    },
    {
     "name": "stdout",
     "output_type": "stream",
     "text": [
      "Congratulations! You've guessed the number in 7 attempts.\n"
     ]
    },
    {
     "name": "stdout",
     "output_type": "stream",
     "text": [
      "Enter your guess (1-100):  75\n"
     ]
    },
    {
     "name": "stdout",
     "output_type": "stream",
     "text": [
      "Too high! Try again.\n"
     ]
    },
    {
     "name": "stdout",
     "output_type": "stream",
     "text": [
      "Enter your guess (1-100):  60\n"
     ]
    },
    {
     "name": "stdout",
     "output_type": "stream",
     "text": [
      "Too low! Try again.\n"
     ]
    },
    {
     "name": "stdout",
     "output_type": "stream",
     "text": [
      "Enter your guess (1-100):  65\n"
     ]
    },
    {
     "name": "stdout",
     "output_type": "stream",
     "text": [
      "Too low! Try again.\n"
     ]
    },
    {
     "name": "stdout",
     "output_type": "stream",
     "text": [
      "Enter your guess (1-100):  70\n"
     ]
    },
    {
     "name": "stdout",
     "output_type": "stream",
     "text": [
      "Too low! Try again.\n"
     ]
    },
    {
     "name": "stdout",
     "output_type": "stream",
     "text": [
      "Enter your guess (1-100):  72\n"
     ]
    },
    {
     "name": "stdout",
     "output_type": "stream",
     "text": [
      "Congratulations! You've guessed the number in 6 attempts.\n"
     ]
    }
   ],
   "source": [
    "# Generate a random number between 1 and 100\n",
    "import random\n",
    "secret_number = random.randint(1, 100)\n",
    "attempts = 0\n",
    "print(\"Welcome to the Number Guessing Game!\")\n",
    "\n",
    "while True:\n",
    "    guess = int(input(\"Enter your guess (1-100): \"))\n",
    "    attempts += 1\n",
    "\n",
    "    if guess < secret_number:\n",
    "        print(\"Too low! Try again.\")\n",
    "    elif guess > secret_number:\n",
    "        print(\"Too high! Try again.\")\n",
    "    else:\n",
    "        print(f\"Congratulations! You've guessed the number in {attempts} attempts.\")\n",
    "        break"
   ]
  },
  {
   "cell_type": "markdown",
   "id": "635ad926-9c71-432d-96da-1703eb1abd41",
   "metadata": {},
   "source": [
    "## Solve Weekly Excercise\n",
    "## Good Luck"
   ]
  },
  {
   "cell_type": "code",
   "execution_count": null,
   "id": "b50859f2-d525-4897-89bb-3016917e4c09",
   "metadata": {},
   "outputs": [],
   "source": []
  }
 ],
 "metadata": {
  "kernelspec": {
   "display_name": "Python 3 (ipykernel)",
   "language": "python",
   "name": "python3"
  },
  "language_info": {
   "codemirror_mode": {
    "name": "ipython",
    "version": 3
   },
   "file_extension": ".py",
   "mimetype": "text/x-python",
   "name": "python",
   "nbconvert_exporter": "python",
   "pygments_lexer": "ipython3",
   "version": "3.12.2"
  }
 },
 "nbformat": 4,
 "nbformat_minor": 5
}
