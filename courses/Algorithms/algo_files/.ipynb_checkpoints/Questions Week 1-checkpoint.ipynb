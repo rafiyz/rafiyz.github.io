{
 "cells": [
  {
   "cell_type": "markdown",
   "id": "3f6dc8f0-91a0-488a-b77a-5c25cbd7b1ba",
   "metadata": {},
   "source": [
    "# Workshop Questions\n",
    "\n",
    "# Modren Programing Language \n",
    "## (Week 1) BS(IT) 6th \n",
    "## ICS/IT, University of Agriculture Peshawar\n",
    "\n",
    "### Instructor: Dr. Rafiullah Khan  \n",
    "[Website](https://rafiyz.github.io/index.html)"
   ]
  },
  {
   "cell_type": "markdown",
   "id": "b71f99b4-eb4a-40ef-a7fd-294ea23d28f3",
   "metadata": {},
   "source": [
    "## Question 1\n",
    "\n",
    "### Variables\n",
    "Declare variables for the following:\n",
    "\n",
    "1. Your name\n",
    "2. Your age\n",
    "3. Your favorite hobby\n",
    "\n",
    "Display all the variables using a single print() statement.\n",
    "Swap the values of two variables (a = 5 and b = 10) without using a third variable.\n"
   ]
  },
  {
   "cell_type": "markdown",
   "id": "460fc7da-948c-43b7-82f4-10df6c6de127",
   "metadata": {},
   "source": [
    "## Question 2\n",
    "\n",
    "### Data Types\n",
    "Identify and print the data types of the following:\n",
    "\n",
    "1. 10\n",
    "2. 3.14\n",
    "3. \"Python\"\n",
    "4. True\n",
    "5. [1, 2, 3]\n",
    "Hint: Use the type() function.\n",
    "\n",
    "Assign values of different data types to variables (e.g., integer, float, string, and boolean). Print each variable and its type."
   ]
  },
  {
   "cell_type": "markdown",
   "id": "bc995425-889d-47d5-98cb-45e6a79a6554",
   "metadata": {},
   "source": [
    "## Question 3\n",
    "\n",
    "### Input and Output\n",
    "Write a program that:\n",
    "\n",
    "1. Prompts the user to enter their name and age.\n",
    "2. Displays a message: Hello [Name], you are [Age] years old!\n",
    "\n",
    "Create a program that takes the radius of a circle as input and calculates its area.\n",
    "\n",
    "- Formula: Area = π x radius<sup>2\n",
    "- Use π = 3.14159."
   ]
  },
  {
   "cell_type": "markdown",
   "id": "80d36333-a8cf-46db-96e8-73ea379a619d",
   "metadata": {},
   "source": [
    "## Question 4\n",
    "\n",
    "### Write a program to perform the following:\n",
    "- Take two numbers as input from the user.\n",
    "- Perform addition, subtraction, multiplication, and division.\n",
    "- Display the results in a formatted output."
   ]
  },
  {
   "cell_type": "markdown",
   "id": "e5c0758c-baa0-418d-8b53-02ff31cfa9df",
   "metadata": {},
   "source": [
    "<b><span style=\"color:red;\">------------------------------------------</span>\n",
    "<br><span style=\"color:blue;\">------------------------------------------</span>\n",
    "<br><span style=\"color:green;\">------------------------------------------</span></b>"
   ]
  },
  {
   "cell_type": "markdown",
   "id": "48b77b6a-84e5-4d36-bfe9-8c7d312fec12",
   "metadata": {},
   "source": [
    "## Challenge Questions\n",
    "\n",
    "### Q1. Write a program to calculate the total number of seconds in a day (24 hours). Store the hours, minutes, and seconds as variables.\n",
    "\n",
    "### Q2. Write a program to convert temperature from Celsius to Fahrenheit:\n",
    "- Formula: Fahrenheit = (Celsius x 9/5) + 32\n",
    "- Input: Temperature in Celsius.\n",
    "- Output: Temperature in Fahrenheit.\n",
    "\n",
    "### Q3. Create a program that calculates the total price of items:\n",
    "- Input: Prices of three items and their quantities.\n",
    "- Output: The total cost in the format:\n",
    " <br><i>The total cost is: $[value] </i>\n",
    "\n",
    "### Q4. Create a program that prompts the user for their name and age, and calculates how many years it will take for them to turn 100. Display the result with a custom message."
   ]
  },
  {
   "cell_type": "markdown",
   "id": "2568b8fb-3a30-489f-8524-510f1aaf7a24",
   "metadata": {},
   "source": [
    "# Good Luck"
   ]
  }
 ],
 "metadata": {
  "kernelspec": {
   "display_name": "Python 3 (ipykernel)",
   "language": "python",
   "name": "python3"
  },
  "language_info": {
   "codemirror_mode": {
    "name": "ipython",
    "version": 3
   },
   "file_extension": ".py",
   "mimetype": "text/x-python",
   "name": "python",
   "nbconvert_exporter": "python",
   "pygments_lexer": "ipython3",
   "version": "3.12.2"
  }
 },
 "nbformat": 4,
 "nbformat_minor": 5
}
